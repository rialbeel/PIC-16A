{
 "cells": [
  {
   "cell_type": "markdown",
   "id": "448567c9",
   "metadata": {},
   "source": [
    "# More iterables\n",
    "\n",
    "An \"iterable\" is just an object that can hold multiple other objects. We already saw one example of an iterable when we studied lists. Python provides a number of convenient iterables. In these notes we'll study three: tuples, sets, and dicts. We'll also look at a few ways to sort lists.\n",
    "\n",
    "### Tuples\n",
    "\n",
    "You can think of a **tuple** as an immutable list. It is ordered and cannot be changed. Tuples and denoted in Python with ```()``` parentheses."
   ]
  },
  {
   "cell_type": "code",
   "execution_count": 1,
   "id": "3c151811",
   "metadata": {},
   "outputs": [],
   "source": [
    "captains = (\"Kirk\", \"Picard\", \"Sisko\", \"Janeway\")"
   ]
  },
  {
   "cell_type": "code",
   "execution_count": null,
   "id": "a86b5efb",
   "metadata": {},
   "outputs": [],
   "source": []
  },
  {
   "cell_type": "code",
   "execution_count": null,
   "id": "2a22dba8",
   "metadata": {},
   "outputs": [],
   "source": []
  },
  {
   "cell_type": "markdown",
   "id": "47ea969c",
   "metadata": {},
   "source": [
    "Tuples can be *unpacked* by assigning their contents to a number of variables equal to the length of the tuple."
   ]
  },
  {
   "cell_type": "code",
   "execution_count": null,
   "id": "d4842c02",
   "metadata": {},
   "outputs": [],
   "source": []
  },
  {
   "cell_type": "markdown",
   "id": "ef2d99b2",
   "metadata": {},
   "source": [
    "A convenient way to create new tuples from old is zipping. You can zip two tuples of equal length together in order to make a list of tuples of pairs. For example:"
   ]
  },
  {
   "cell_type": "code",
   "execution_count": 2,
   "id": "d2c0af98",
   "metadata": {},
   "outputs": [],
   "source": [
    "commands = (\"Enterprise A\", \"Enterprise D\", \"Deep Space 9\", \"Voyager\")"
   ]
  },
  {
   "cell_type": "code",
   "execution_count": 3,
   "id": "67bdbc16",
   "metadata": {},
   "outputs": [],
   "source": [
    "# a zip is an iterator over tuples"
   ]
  },
  {
   "cell_type": "code",
   "execution_count": null,
   "id": "4758dcde",
   "metadata": {},
   "outputs": [],
   "source": []
  },
  {
   "cell_type": "markdown",
   "id": "1c8da2c7",
   "metadata": {},
   "source": [
    "## Sets\n",
    "\n",
    "Much like in mathematics, a **set** is an unordered collection of unique objects. Sets are denoted by ```{}``` curly braces. For example:"
   ]
  },
  {
   "cell_type": "code",
   "execution_count": 4,
   "id": "cfe79139",
   "metadata": {},
   "outputs": [
    {
     "data": {
      "text/plain": [
       "{'Janeway', 'Kirk', 'Picard', 'Sisko'}"
      ]
     },
     "execution_count": 4,
     "metadata": {},
     "output_type": "execute_result"
    }
   ],
   "source": [
    "set(captains)"
   ]
  },
  {
   "cell_type": "markdown",
   "id": "50abbcb3",
   "metadata": {},
   "source": [
    "This looks much like the captains tuple, only with different delimiters. However, the order of elements has changed. Indeed, there is no order -- meaning we cannot retrieve elements through indexing:"
   ]
  },
  {
   "cell_type": "code",
   "execution_count": null,
   "id": "8af34faa",
   "metadata": {},
   "outputs": [],
   "source": []
  },
  {
   "cell_type": "markdown",
   "id": "f3f26e77",
   "metadata": {},
   "source": [
    "We can, however, add and remove elements, much like we can do with lists."
   ]
  },
  {
   "cell_type": "code",
   "execution_count": null,
   "id": "04bb9f5d",
   "metadata": {},
   "outputs": [],
   "source": []
  },
  {
   "cell_type": "markdown",
   "id": "6dd125b7",
   "metadata": {},
   "source": [
    "We can also perform standard set operations, returning the result:"
   ]
  },
  {
   "cell_type": "code",
   "execution_count": null,
   "id": "83e689ed",
   "metadata": {},
   "outputs": [],
   "source": []
  },
  {
   "cell_type": "code",
   "execution_count": null,
   "id": "dce4130f",
   "metadata": {},
   "outputs": [],
   "source": []
  },
  {
   "cell_type": "code",
   "execution_count": null,
   "id": "18a2aab4",
   "metadata": {},
   "outputs": [],
   "source": []
  },
  {
   "cell_type": "markdown",
   "id": "842cc583",
   "metadata": {},
   "source": [
    "An important application of sets is enumerating or counting distinct elements of a collection. For example, let's count the number of distinct items in a list:"
   ]
  },
  {
   "cell_type": "code",
   "execution_count": 5,
   "id": "7e5b7331",
   "metadata": {},
   "outputs": [],
   "source": [
    "L = (1, 2, 2, 2, 2, 2, 3, 4, 15, 6, 6, 6, 6, 7, 4)"
   ]
  },
  {
   "cell_type": "markdown",
   "id": "0ba21f9d",
   "metadata": {},
   "source": [
    "## Dictionaries\n",
    "\n",
    "Dictionaries (or ```dict```s) are iterables, like lists, tuples, and sets.\n",
    "\n",
    "A dict is a set of key-value pairs, and is typically used to indicate a relationship between different types of objects. Like sets, dicts are enclosed in ```{}``` curly braces. A ```:``` colon separates keys from values, and key-value pairs are separated by commas.\n",
    "\n",
    "For example, here's a dict that assigns the commanding officer to each starship:"
   ]
  },
  {
   "cell_type": "code",
   "execution_count": 6,
   "id": "d2a2a735",
   "metadata": {},
   "outputs": [],
   "source": [
    "command_dict = {\n",
    "    \"Enterprise A\" : \"Kirk\",\n",
    "    \"Enterprise D\" : \"Picard\",\n",
    "    \"DS9\"          : \"Sisko\",\n",
    "    \"Voyager\"      : \"Janeway\"\n",
    "}"
   ]
  },
  {
   "cell_type": "markdown",
   "id": "28520a64",
   "metadata": {},
   "source": [
    "One can look up the name of the commander by passing the ame of the vessel as a subscript:"
   ]
  },
  {
   "cell_type": "code",
   "execution_count": null,
   "id": "8008b21a",
   "metadata": {
    "scrolled": true
   },
   "outputs": [],
   "source": []
  },
  {
   "cell_type": "markdown",
   "id": "2fddb7e7",
   "metadata": {},
   "source": [
    "The *keys* of a ```dict``` should be immutable and distinct."
   ]
  },
  {
   "cell_type": "code",
   "execution_count": null,
   "id": "eb880c0e",
   "metadata": {},
   "outputs": [],
   "source": []
  },
  {
   "cell_type": "code",
   "execution_count": null,
   "id": "e760d384",
   "metadata": {},
   "outputs": [],
   "source": []
  },
  {
   "cell_type": "code",
   "execution_count": null,
   "id": "418550ed",
   "metadata": {},
   "outputs": [],
   "source": []
  },
  {
   "cell_type": "markdown",
   "id": "7e7c3db5",
   "metadata": {},
   "source": [
    "In many cases, it's useful to build dictionaries incrementally, one key-value pair at a time:"
   ]
  },
  {
   "cell_type": "code",
   "execution_count": null,
   "id": "88662886",
   "metadata": {},
   "outputs": [],
   "source": []
  },
  {
   "cell_type": "markdown",
   "id": "f29d1935",
   "metadata": {},
   "source": [
    "## Dictionary methods\n",
    "\n",
    "Dictionaries come with a number of useful methods (functions) for retrieving and manipulating their values.\n",
    "\n",
    "### Getting data\n",
    "\n",
    "A commmon problem with working with ```dict```s comes when we try to access a key that doesn't exist yet."
   ]
  },
  {
   "cell_type": "code",
   "execution_count": null,
   "id": "5e68964b",
   "metadata": {},
   "outputs": [],
   "source": []
  },
  {
   "cell_type": "code",
   "execution_count": 7,
   "id": "3f17a946",
   "metadata": {},
   "outputs": [],
   "source": [
    "\n",
    "# ---"
   ]
  },
  {
   "cell_type": "markdown",
   "id": "01846a44",
   "metadata": {},
   "source": [
    "Our entire code fails because we tried to access one nonexistent key. To avoid this, we can use the ```get()``` method, which allows us to specify a default value to return in case a key is not found."
   ]
  },
  {
   "cell_type": "code",
   "execution_count": null,
   "id": "b3e2e0b5",
   "metadata": {},
   "outputs": [],
   "source": []
  },
  {
   "cell_type": "code",
   "execution_count": 8,
   "id": "d7c116cf",
   "metadata": {},
   "outputs": [],
   "source": [
    "# can use the keys function to obtain all of the dictionary keys"
   ]
  },
  {
   "cell_type": "code",
   "execution_count": null,
   "id": "ff02c982",
   "metadata": {},
   "outputs": [],
   "source": []
  },
  {
   "cell_type": "code",
   "execution_count": 9,
   "id": "01f825ab",
   "metadata": {},
   "outputs": [],
   "source": [
    "# can also see the values"
   ]
  },
  {
   "cell_type": "markdown",
   "id": "fd6ed112",
   "metadata": {},
   "source": [
    "When iterating over key-value pairs, use the ```items()``` method:"
   ]
  },
  {
   "cell_type": "code",
   "execution_count": null,
   "id": "b9d1afa6",
   "metadata": {},
   "outputs": [],
   "source": []
  },
  {
   "cell_type": "markdown",
   "id": "73280e97",
   "metadata": {},
   "source": [
    "### Modifying dicts\n",
    "\n",
    "To remove keys from a ```dict```, use the ```pop()``` method. This method returns the value associated to the supplied key, and then removes both from the ```dict```."
   ]
  },
  {
   "cell_type": "code",
   "execution_count": null,
   "id": "312d9805",
   "metadata": {},
   "outputs": [],
   "source": []
  },
  {
   "cell_type": "code",
   "execution_count": null,
   "id": "e60289cf",
   "metadata": {},
   "outputs": [],
   "source": []
  },
  {
   "cell_type": "markdown",
   "id": "adfdfaa2",
   "metadata": {},
   "source": [
    "To fuse two dicts, use ```update()```:"
   ]
  },
  {
   "cell_type": "code",
   "execution_count": null,
   "id": "114b8962",
   "metadata": {},
   "outputs": [],
   "source": []
  },
  {
   "cell_type": "markdown",
   "id": "952bc217",
   "metadata": {},
   "source": [
    "If any keys supplied to ```update()``` are already present, the old values will be overwritten:"
   ]
  },
  {
   "cell_type": "code",
   "execution_count": null,
   "id": "2a609d97",
   "metadata": {},
   "outputs": [],
   "source": []
  }
 ],
 "metadata": {
  "kernelspec": {
   "display_name": "Python 3 (ipykernel)",
   "language": "python",
   "name": "python3"
  },
  "language_info": {
   "codemirror_mode": {
    "name": "ipython",
    "version": 3
   },
   "file_extension": ".py",
   "mimetype": "text/x-python",
   "name": "python",
   "nbconvert_exporter": "python",
   "pygments_lexer": "ipython3",
   "version": "3.11.2"
  }
 },
 "nbformat": 4,
 "nbformat_minor": 5
}
