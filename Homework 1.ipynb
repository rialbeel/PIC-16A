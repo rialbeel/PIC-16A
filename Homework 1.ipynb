{
 "cells": [
  {
   "cell_type": "markdown",
   "id": "7c5bc268",
   "metadata": {},
   "source": [
    "# HW1\n",
    "\n",
    "*Fill in your name and the names of any students who helped you below.* \n",
    "\n",
    "> I affirm that I personally wrote the text, code, and comments in this homework assignment. \n",
    "\n",
    "> I received help from \\[Dylan Du\\] who gave me suggestions on \\[problem 1\\].\n",
    "\n",
    "\\- *By Blair Lee* \\\n",
    "\\- Jan. 13 2024\n",
    "\n",
    "\n",
    "This homework focuses on topics related to basic data types, collections, and iterations. For each problem, place your solution below the **Solution** headers. Refer to [Expectations for Assignments](https://bruinlearn.ucla.edu/courses/176867/pages/expectations-for-submitted-assignments?module_item_id=6447460) for instructions on submitting this assignment. For this assignment, it is not necessary to write docstrings for any of your code, but you should include comments and descriptions of your general approach. \n",
    "\n",
    "Submit this assignment on GradeScope. "
   ]
  },
  {
   "cell_type": "markdown",
   "id": "d66af692",
   "metadata": {},
   "source": [
    "## Problem 1\n",
    "\n",
    "### (a)\n",
    "\n",
    "Create a string variable `s` such that the following works: \n",
    "\n",
    "You may need to use one or more special characters.\n",
    "\n",
    "```python\n",
    "print(s)\n",
    "```\n",
    "```\n",
    "Tired    : Doing math on your calculator. \n",
    "Wired    : Doing math in Python. \n",
    "Inspired : Training literal pythons to carry out long division using an abacus.\n",
    "```"
   ]
  },
  {
   "cell_type": "markdown",
   "id": "32643f77-01f0-4027-9013-14f264b12588",
   "metadata": {},
   "source": [
    "I'll approach this problem by:\n",
    "1. Writing out the text as one string s\n",
    "2. Using \"\\t\" and \"\\n\" to add tab spaces and new lines to the string\n",
    "3. Then I'll use `print(s)` to get the desired output"
   ]
  },
  {
   "cell_type": "code",
   "execution_count": 2,
   "id": "2cbdb6b5",
   "metadata": {},
   "outputs": [
    {
     "name": "stdout",
     "output_type": "stream",
     "text": [
      "Tired \t : Doing math on your calculator.\n",
      "Wired \t : Doing math in Python.\n",
      "Inspired : Training literal pythons to carry out long division using an abacus. \n"
     ]
    }
   ],
   "source": [
    "# your solution\n",
    "s = \"Tired \\t : Doing math on your calculator.\\nWired \\t : Doing math in Python.\\nInspired : Training literal pythons to carry out long division using an abacus. \"\n",
    "\n",
    "print(s)"
   ]
  },
  {
   "cell_type": "markdown",
   "id": "8e640d68",
   "metadata": {},
   "source": [
    "Next, write Python commands which use `s` to print the specified outputs. Feel free to use loops and comprehensions; however, keep your code as concise as possible. Each solution should require at most three short lines of code.  \n",
    "\n",
    "For full credit, you should minimize the use of positional indexing (e.g. `s[5:10]`) when possible. \n",
    "\n",
    "### (b)\n",
    "\n",
    "Output:\n",
    "```\n",
    "Tired    \n",
    "Doing math on your calculator. \n",
    "Wired    \n",
    "Doing math in Python. \n",
    "Inspired \n",
    "Training literal pythons to carry out long division using an abacus.\n",
    "\n",
    "```"
   ]
  },
  {
   "cell_type": "markdown",
   "id": "3e1ae5c9-de4e-4f74-b449-f9fecc17824e",
   "metadata": {},
   "source": [
    "To approach this problem: Since the only difference between this output and the last is that the section after the colon is on a new line, I used `s.replace()` with the colon and \"\\n\"."
   ]
  },
  {
   "cell_type": "code",
   "execution_count": 3,
   "id": "c6dd49bf",
   "metadata": {},
   "outputs": [
    {
     "name": "stdout",
     "output_type": "stream",
     "text": [
      "Tired \t\n",
      "Doing math on your calculator.\n",
      "Wired \t\n",
      "Doing math in Python.\n",
      "Inspired\n",
      "Training literal pythons to carry out long division using an abacus. \n"
     ]
    }
   ],
   "source": [
    "# your solution here\n",
    "print(s.replace(\" : \", \"\\n\")) "
   ]
  },
  {
   "cell_type": "markdown",
   "id": "8745b4ef",
   "metadata": {},
   "source": [
    "### (c)\n",
    "\n",
    "Output: \n",
    "\n",
    "```\n",
    "Tired\n",
    "Wired\n",
    "Inspired\n",
    "```\n",
    "\n",
    "**Hint**: look at the endings of words. A small amount of positional indexing might be handy here. "
   ]
  },
  {
   "cell_type": "markdown",
   "id": "8030c4b4-6173-441c-a2fe-baa420cded55",
   "metadata": {},
   "source": [
    "In approaching this problem:\n",
    "1. I first wanted to use `s.split(\"\\n\")` so I could isolate each line of s\n",
    "2. Next, I know I needed to print a part from each element of the `s.split()` list so I used a for loop\n",
    "3. Last, I used the colon as a key in using `.split()` to separate the specific words from the rest of the string and indexing to extract the words I want to print"
   ]
  },
  {
   "cell_type": "code",
   "execution_count": 4,
   "id": "b68f26b0",
   "metadata": {},
   "outputs": [
    {
     "name": "stdout",
     "output_type": "stream",
     "text": [
      "Tired\n",
      "Wired\n",
      "Inspired\n"
     ]
    }
   ],
   "source": [
    "# your solution here.\n",
    "for line in s.split(\"\\n\"):\n",
    "    print(line.split(\" : \")[0].strip()) # Added .strip() method to remove of the \\t after Tired and Wired"
   ]
  },
  {
   "cell_type": "markdown",
   "id": "22fc9e23",
   "metadata": {},
   "source": [
    "### (d)\n",
    "\n",
    "Output: \n",
    "\n",
    "```\n",
    "Tired    : Doing math on your calculator. \n",
    "Wired    : Doing math in Python. \n",
    "```\n",
    "\n",
    "**Hint**: These two lines are shorter than the other one. "
   ]
  },
  {
   "cell_type": "markdown",
   "id": "4845ddbd-1f6d-47ab-a121-86d56c812e54",
   "metadata": {},
   "source": [
    "My approach to this problem:\n",
    "1. I first want to follow a similar approach as part c) where each line of the string will be an element of a list.\n",
    "2. Once each line is an element of a list, I know I want the two shorter lines which I can use `if` to find.\n",
    "3. Last part of the for loop I want to `print()` the lines that fulfill the `if` statement."
   ]
  },
  {
   "cell_type": "code",
   "execution_count": 5,
   "id": "14e8769c",
   "metadata": {},
   "outputs": [
    {
     "name": "stdout",
     "output_type": "stream",
     "text": [
      "Tired \t : Doing math on your calculator.\n",
      "Wired \t : Doing math in Python.\n"
     ]
    }
   ],
   "source": [
    "# your code here\n",
    "for line in s.split(\"\\n\"):\n",
    "    if len(line) < len(s.split(\"\\n\")[2]): # Since we only want the shorter lines, used if statement to find the two shorter lines.\n",
    "        print(line)"
   ]
  },
  {
   "cell_type": "markdown",
   "id": "b516d314",
   "metadata": {},
   "source": [
    "### (e)\n",
    "\n",
    "Output (note the lack of quotation marks). \n",
    "\n",
    "```\n",
    "Tired    : Doing data science on your calculator. \n",
    "Wired    : Doing data science in Python. \n",
    "Inspired : Training literal pythons to carry out machine learning using an abacus.\n",
    "```\n",
    "\n",
    "**Hint**: `str.replace`. "
   ]
  },
  {
   "cell_type": "markdown",
   "id": "1daa8ce4-9e84-4bd0-be21-d5ab1aa7d733",
   "metadata": {},
   "source": [
    "To approach this problem:\n",
    "1. Looking at the original s and the wanted output, I noticed that only math and long division change.\n",
    "2. I use `.replace()` to change the parts that I want for the output, and then print."
   ]
  },
  {
   "cell_type": "code",
   "execution_count": 6,
   "id": "3f71eec8",
   "metadata": {},
   "outputs": [
    {
     "name": "stdout",
     "output_type": "stream",
     "text": [
      "Tired \t : Doing data science on your calculator.\n",
      "Wired \t : Doing data science in Python.\n",
      "Inspired : Training literal pythons to carry out machine learning using an abacus. \n"
     ]
    }
   ],
   "source": [
    "# your solution here\n",
    "print(s.replace(\"math\", \"data science\").replace(\"long division\", \"machine learning\"))"
   ]
  },
  {
   "cell_type": "markdown",
   "id": "d406684e",
   "metadata": {},
   "source": [
    "## Problem 2\n",
    "\n",
    "Write code which, given a list `L`, produces a dictionary `D` where: \n",
    "\n",
    "- The *keys* of `D` are the unique elements of `L` (i.e. each element of `L` appears only once). \n",
    "- The value `D[i]` is the number of times that `i` appears in list `L`. \n",
    "\n",
    "Demonstrate that your code works for lists of strings, lists of integers, and lists containing both strings and integers. (it's fine to copy and paste your code for this, although if you happen to know how to define functions then you might find that more efficient). \n",
    "\n",
    "For example: \n",
    "\n",
    "```python\n",
    "L = [\"a\", \"a\", \"b\", \"c\"]\n",
    "# your code here\n",
    "# ...\n",
    "D\n",
    "# output\n",
    "{\"a\" : 2, \"b\" : 1, \"c\" : 1}\n",
    "```"
   ]
  },
  {
   "cell_type": "markdown",
   "id": "5f28a398-f55c-4ae4-89a3-e4a3e4d12e4a",
   "metadata": {},
   "source": [
    "To approach this problem:\n",
    "1. I want to find the unique elements of the list to create keys\n",
    "2. I want to update a dictionary with the key and the count for the element"
   ]
  },
  {
   "cell_type": "code",
   "execution_count": 7,
   "id": "ba36c968",
   "metadata": {},
   "outputs": [
    {
     "name": "stdout",
     "output_type": "stream",
     "text": [
      "{'a': 2, 'b': 1, 'c': 1}\n",
      "{1: 2, 2: 1, 3: 1, 5: 1}\n"
     ]
    }
   ],
   "source": [
    "# your solution\n",
    "def list_to_d(L):\n",
    "    D = {}\n",
    "    unique_L = []\n",
    "    for x in L: # First found unique elements to create keys\n",
    "        if x not in unique_L:\n",
    "            unique_L.append(x)\n",
    "    for item in unique_L: # With the unique keys, found the counts\n",
    "        D.update({item : L.count(item)})\n",
    "    return D\n",
    "\n",
    "string = [\"a\", \"a\", \"b\", \"c\"] # Testing for string list\n",
    "D1 = list_to_d(string)\n",
    "print(D1)\n",
    "\n",
    "integer = [1, 1, 2, 3, 5] # Testing for integer list\n",
    "D2 = list_to_d(integer)\n",
    "print(D2)"
   ]
  },
  {
   "cell_type": "markdown",
   "id": "723d4661",
   "metadata": {},
   "source": [
    "# Problem 3\n",
    "\n",
    "The `input()` function allows you to accept typed input from a user as a string. For example, \n",
    "\n",
    "```python\n",
    "x = input(\"Please input a number.\")\n",
    "# user types 7\n",
    "x\n",
    "# output \n",
    "'7'\n",
    "```\n",
    "\n",
    "Write code that prompts a user to input an odd `int`. If the user inputs an even `int`, the code should re-prompt them for an odd integer. After the user has entered an odd integer, the code should print a list of all numbers that the user input. \n",
    "\n",
    "The code `int(\"1\")` will convert strings composed of numerals into integers. You may assume that the user will only input such strings. \n",
    "\n",
    "*Hint*: Try `while` and associated tools. \n",
    "\n",
    "### Example\n",
    "\n",
    "```python\n",
    "\n",
    "# your code\n",
    "\n",
    "> Please enter an integer.6\n",
    "> Please enter an integer.8\n",
    "> Please enter an integer.4\n",
    "> Please enter an integer.9\n",
    "> [6, 8, 4, 9]\n",
    "\n",
    "```"
   ]
  },
  {
   "cell_type": "markdown",
   "id": "835671e9-8b38-4db9-9cb7-c7b5fd3a4dc6",
   "metadata": {},
   "source": [
    "To approach this problem:\n",
    "1. I want to create a loop where it will repeat as long as the input is even\n",
    "2. As the loop repeats, I want a list to be appended with the inputted value\n",
    "3. At the end, I want the list of inputs to be printed"
   ]
  },
  {
   "cell_type": "code",
   "execution_count": 8,
   "id": "4a6cf68b",
   "metadata": {},
   "outputs": [
    {
     "name": "stdout",
     "output_type": "stream",
     "text": [
      "Please enter an integer. 6\n",
      "Please enter an integer. 8\n",
      "Please enter an integer. 4\n",
      "Please enter an integer. 9\n"
     ]
    },
    {
     "name": "stdout",
     "output_type": "stream",
     "text": [
      "[6, 8, 4, 9]\n"
     ]
    }
   ],
   "source": [
    "# your solution\n",
    "L = [] # empty list to store final inputs.\n",
    "x = input(\"Please enter an integer.\")\n",
    "L.append(int(x)) # if first number entered is odd, then this line appends it into list\n",
    "while int(x) % 2 == 0: # if number entered is even, then the loop will continue\n",
    "    x = input(\"Please enter an integer.\")\n",
    "    L.append(int(x))\n",
    "print(L)"
   ]
  },
  {
   "cell_type": "markdown",
   "id": "56551c1f",
   "metadata": {},
   "source": [
    "# Problem 4\n",
    "\n",
    "Write list comprehensions which produce the specified list. Each list comprehension should fit on one line and be no longer than 80 characters."
   ]
  },
  {
   "cell_type": "code",
   "execution_count": 9,
   "id": "a8d3bb0b",
   "metadata": {},
   "outputs": [],
   "source": [
    "                                                                               # 80 characters"
   ]
  },
  {
   "cell_type": "markdown",
   "id": "5d83540a",
   "metadata": {},
   "source": [
    "## (a) \n",
    "\n",
    "A list of the first 10 [triangular numbers](https://en.wikipedia.org/wiki/Triangular_number). The $i$th triangular number is the sum of the integers up to and including $i$. For example, the sixth triangular number is \n",
    "\n",
    "$$1+2+3+4+5+6 = 21\\;.$$\n",
    "\n",
    "The first element in your list should be 1, and the last one should be 55. \n",
    "\n",
    "#### Note\n",
    "\n",
    "Some of you may be familiar with the formula\n",
    "\n",
    "$$1 + 2 + 3 + \\cdots + (n-1) + n = \\frac{n(n+1)}{2}\\;,$$\n",
    "\n",
    "which is usually attributed to an 8-year-old Carl Friedrich Gauss (the same one after whom Gaussian elimination, Gauss's Theorem, Gaussian (normal) distributions, and many other mathematical constructs are named). **For full credit, you should not use this formula.**"
   ]
  },
  {
   "cell_type": "markdown",
   "id": "dc02f1d1-d43e-459a-80b9-397bd7c7dbc3",
   "metadata": {},
   "source": [
    "My approach to this problem:\n",
    "1. Since I want to keep adding numbers and their increment, I can use `sum()` to quickly add multiple numbers n\n",
    "2. To acquire the numbers from 1 to n, I can use `range()`\n",
    "3. I need to use list comprehension to make sure that I only get the first 10 triangular numbers"
   ]
  },
  {
   "cell_type": "code",
   "execution_count": 10,
   "id": "2e2d1626",
   "metadata": {},
   "outputs": [
    {
     "data": {
      "text/plain": [
       "[1, 3, 6, 10, 15, 21, 28, 36, 45, 55]"
      ]
     },
     "execution_count": 10,
     "metadata": {},
     "output_type": "execute_result"
    }
   ],
   "source": [
    "# your solution\n",
    "[sum(range(1, n + 1)) for n in range(1, 11)] # Finds the sum of range from 1 to n as long as n can range from 1 to 10."
   ]
  },
  {
   "cell_type": "markdown",
   "id": "2e8089b1",
   "metadata": {},
   "source": [
    "## (b)\n",
    "\n",
    "A list of the letters in a predefined string `s`, **except for vowels.** For the purposes of this example, an English vowel is any of the letters `[\"a\", \"e\", \"i\", \"o\", \"u\"]`. For example: \n",
    "\n",
    "```python\n",
    "s = \"make it so, number one\"\n",
    "# your code here\n",
    "# ...\n",
    "L\n",
    "# output\n",
    "[\"m\", \"k\", \"t\", \"s\", \"n\", \"m\", \"b\", \"r\", \"n\"]\n",
    "```\n",
    "You should also exclude spaces. It is ok to include punctuation.  \n",
    "\n",
    "*Hint:* Consider the following code: \n",
    "\n",
    "```python\n",
    "l = \"a\"\n",
    "l not in [\"e\", \"w\"]\n",
    "```"
   ]
  },
  {
   "cell_type": "markdown",
   "id": "7d4a07c5-be10-4704-b123-a4ebcd366c91",
   "metadata": {},
   "source": [
    "My approach:\n",
    "1. First, I want to make a list of the vowels and spaces which I want omitted in the final list\n",
    "2. Next, I want the list to have each letter as long as it is not in the list I made in step 1"
   ]
  },
  {
   "cell_type": "code",
   "execution_count": 11,
   "id": "3c5fb626",
   "metadata": {},
   "outputs": [
    {
     "data": {
      "text/plain": [
       "['m', 'k', 't', 's', ',', 'n', 'm', 'b', 'r', 'n']"
      ]
     },
     "execution_count": 11,
     "metadata": {},
     "output_type": "execute_result"
    }
   ],
   "source": [
    "# your solution\n",
    "s = \"make it so, number one\"\n",
    "L = [letter for letter in s if letter not in [\"a\", \"e\", \"i\", \"o\", \"u\", \" \"]] # Omits lower case vowels and \" \" in the new list\n",
    "L"
   ]
  },
  {
   "cell_type": "markdown",
   "id": "fbf2ccf4",
   "metadata": {},
   "source": [
    "## (c)\n",
    "\n",
    "A list `L` whose elements are themselves lists. The `i`th element of `L` contains the powers of `X[i]` from `0` to `k`, where `X` is a list and `k` an integer that can be specified by the user. \n",
    "For example, \n",
    "\n",
    "```python\n",
    "X = [5, 6, 7]\n",
    "k = 2\n",
    "# your code here\n",
    "# ... \n",
    "L\n",
    "# output\n",
    "[[1, 5, 25], [1, 6, 36], [1, 7, 49]]\n",
    "```"
   ]
  },
  {
   "cell_type": "markdown",
   "id": "0c870a8b-bed1-4a36-9b8f-94f35d9a2164",
   "metadata": {},
   "source": [
    "My approach:\n",
    "1. Since I want a list inside of a larger list, I want to use two different list comprehension\n",
    "2. For outside list, I want to make sure that each element in the original list is used\n",
    "3. For the list within the list, I want to use `**` for power and use `range()` to take the power from 0 to k."
   ]
  },
  {
   "cell_type": "code",
   "execution_count": 12,
   "id": "79c61bda",
   "metadata": {},
   "outputs": [
    {
     "data": {
      "text/plain": [
       "[[1, 5, 25], [1, 6, 36], [1, 7, 49]]"
      ]
     },
     "execution_count": 12,
     "metadata": {},
     "output_type": "execute_result"
    }
   ],
   "source": [
    "# your solution\n",
    "X = [5, 6, 7]\n",
    "k = 2\n",
    "L = [[x ** i for i in range(k + 1)] for x in X]\n",
    "L"
   ]
  },
  {
   "cell_type": "markdown",
   "id": "50e68ea6",
   "metadata": {},
   "source": [
    "## (d)\n",
    "\n",
    "\n",
    "As in **(c)**, but now include only even powers of `X`. For example, \n",
    "\n",
    "```python\n",
    "X = [5, 6, 7]\n",
    "k = 8\n",
    "# your code here\n",
    "# ...\n",
    "L\n",
    "# output\n",
    "[[1, 25, 625, 15625, 390625],\n",
    " [1, 36, 1296, 46656, 1679616],\n",
    " [1, 49, 2401, 117649, 5764801]]\n",
    "```"
   ]
  },
  {
   "cell_type": "markdown",
   "id": "a3c67615-5c05-432b-bae7-2dccfd638287",
   "metadata": {},
   "source": [
    "To approach this problem:\n",
    "1. Taking a similar approach to c), I just want to make sure that the power is even. This can be done using an if statement"
   ]
  },
  {
   "cell_type": "code",
   "execution_count": 17,
   "id": "2df6e483",
   "metadata": {},
   "outputs": [
    {
     "data": {
      "text/plain": [
       "[[1, 25, 625, 15625, 390625],\n",
       " [1, 36, 1296, 46656, 1679616],\n",
       " [1, 49, 2401, 117649, 5764801]]"
      ]
     },
     "execution_count": 17,
     "metadata": {},
     "output_type": "execute_result"
    }
   ],
   "source": [
    "# your solution\n",
    "X = [5, 6, 7]\n",
    "k = 8\n",
    "L = [[x ** i for i in range(k + 1) if i % 2 == 0] for x in X]\n",
    "L"
   ]
  },
  {
   "cell_type": "markdown",
   "id": "c6ecb3d5",
   "metadata": {},
   "source": [
    "# Problem 5\n",
    "\n",
    "In this problem, we'll simulate the *simple random walk*, perhaps the most important discrete-time stochastic process. Random walks are commonly used to model phenomena in physics,  chemistry, biology, and finance. In the simple random walk, at each timestep we flip a fair coin. If heads, we move foward one step; if tails, we move backwards. Let \"forwards\" be represented by positive integers, and \"backwards\" be represented by negative integers. For example, if we are currently three steps backwards from the starting point, our position is `-3`. \n",
    "\n",
    "Write code to simulate a random walk. Your code should: \n",
    "\n",
    "- Specify an upper and lower bound -- once the walk reaches one of these two numbers, the process terminates. \n",
    "- Keep a log of the results of the coin flips. \n",
    "- Keep a log of the position of the walk at each time step. \n",
    "- When the walk reaches the upper or lower bound, print a message and terminate the walk. \n",
    "\n",
    "To simulate a coin flip, run the following code once: \n",
    "\n",
    "```python \n",
    "import random\n",
    "```\n",
    "\n",
    "Then, you can let `x` be the value of a fairly flipped coin by writing:\n",
    "\n",
    "```python\n",
    "x = random.choice([\"heads\",\"tails\"])\n",
    "```\n",
    "\n",
    "You don't have to use `\"heads\"` and `\"tails\"` when using this function -- can you think of a more useful choice set?\n",
    "\n",
    "**Your code should include at least one instance of an `elif` statement and at least one instance of a `break` statement**. \n",
    "\n",
    "## Example\n",
    "\n",
    "\n",
    "\n",
    "```python\n",
    "import random\n",
    "\n",
    "upper_bound = 3\n",
    "lower_bound = -3\n",
    "\n",
    "# your code here\n",
    "# ...\n",
    "\n",
    "# message\n",
    "Upper bound at 3 reached\n",
    "\n",
    "positions \n",
    "# output\n",
    "[1, 2, 1, 2, 1, 0, 1, 2, 3]\n",
    "```\n",
    "\n",
    "Finally, you might be interested in visualizing the walk. Optionally, after your main code, run the following two lines to produce a plot. When the bounds are set very large, the resulting visualization can be quite intriguing and attractive. It is not necessary for you to understand the syntax of these commands at this stage. "
   ]
  },
  {
   "cell_type": "markdown",
   "id": "72871236-cb18-4e9e-bcdc-216af8e273de",
   "metadata": {},
   "source": [
    "To approach this problem:\n",
    "1. Since I want some action to be repeated, I decide to use a `while` loop\n",
    "2. Using `random.choice()` I can let -1 represent tails and 1 to represent heads\n",
    "3. With this, I can add the randomly chosen movement to the initial position of 0\n",
    "4. I want this to repeat until the lower bound or upper bound is reached which I can check using an `if` and `elif` statement\n",
    "5. Once one of these statements are fulfilled, I want to break out of the loop"
   ]
  },
  {
   "cell_type": "code",
   "execution_count": 13,
   "id": "d557ebfb",
   "metadata": {},
   "outputs": [
    {
     "name": "stdout",
     "output_type": "stream",
     "text": [
      "Upper bound at 3 reached\n"
     ]
    },
    {
     "data": {
      "text/plain": [
       "[1, 2, 1, 2, 1, 0, 1, 0, -1, 0, 1, 0, 1, 2, 1, 0, 1, 2, 3]"
      ]
     },
     "execution_count": 13,
     "metadata": {},
     "output_type": "execute_result"
    }
   ],
   "source": [
    "# your solution\n",
    "import random\n",
    "\n",
    "location = 0\n",
    "upper_bound = 3\n",
    "lower_bound = -3\n",
    "steps = []\n",
    "positions = []\n",
    "\n",
    "while location >= lower_bound and location <= upper_bound:\n",
    "    x = random.choice([-1, 1]) # Let -1 represent tails and 1 represent heads\n",
    "    location = x + location\n",
    "    positions.append(location) # Adds the position of the walk to a list\n",
    "    steps.append(x) # Adds the result of the coin flip (-1 or 1) to a list\n",
    "    if location == lower_bound:\n",
    "        print(\"Lower bound at\", lower_bound, \"reached\")\n",
    "        break\n",
    "    elif location == upper_bound:\n",
    "        print(\"Upper bound at\", upper_bound, \"reached\")\n",
    "        break\n",
    "\n",
    "positions"
   ]
  },
  {
   "cell_type": "code",
   "execution_count": 14,
   "id": "a85492f4",
   "metadata": {},
   "outputs": [
    {
     "data": {
      "text/plain": [
       "[<matplotlib.lines.Line2D at 0x10735c990>]"
      ]
     },
     "execution_count": 14,
     "metadata": {},
     "output_type": "execute_result"
    },
    {
     "data": {
      "image/png": "[encoded data removed]",
      "text/plain": [
       "<Figure size 640x480 with 1 Axes>"
      ]
     },
     "metadata": {},
     "output_type": "display_data"
    }
   ],
   "source": [
    "from matplotlib import pyplot as plt\n",
    "plt.plot(positions)"
   ]
  },
  {
   "cell_type": "code",
   "execution_count": null,
   "id": "52053ec5",
   "metadata": {},
   "outputs": [],
   "source": []
  }
 ],
 "metadata": {
  "kernelspec": {
   "display_name": "Python 3 (ipykernel)",
   "language": "python",
   "name": "python3"
  },
  "language_info": {
   "codemirror_mode": {
    "name": "ipython",
    "version": 3
   },
   "file_extension": ".py",
   "mimetype": "text/x-python",
   "name": "python",
   "nbconvert_exporter": "python",
   "pygments_lexer": "ipython3",
   "version": "3.11.2"
  }
 },
 "nbformat": 4,
 "nbformat_minor": 5
}
