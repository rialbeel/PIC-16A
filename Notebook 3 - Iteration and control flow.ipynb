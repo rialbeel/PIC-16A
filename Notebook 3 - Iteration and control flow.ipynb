{
 "cells": [
  {
   "cell_type": "markdown",
   "id": "ac54d792",
   "metadata": {},
   "source": [
    "# For loops and list comprehensions\n",
    "\n",
    "## For loops\n",
    "\n",
    "For loops are an important *control-flow* construct -- they allow you to repeatedly perform batches of similar operations. A for-loop needs an iterable to loop over; lists and their cousins are the most common iterables for this purpose."
   ]
  },
  {
   "cell_type": "code",
   "execution_count": 7,
   "id": "7e123565",
   "metadata": {},
   "outputs": [
    {
     "name": "stdout",
     "output_type": "stream",
     "text": [
      "0 0\n",
      "1 1\n",
      "2 3\n",
      "3 6\n",
      "4 10\n",
      "5 15\n"
     ]
    }
   ],
   "source": [
    "# sum the integers from 0 to 5\n",
    "j = 0 # hold my sum\n",
    "for i in [0,1 ,2, 3,4,5]:\n",
    "    j+=i\n",
    "    print(i, j)\n",
    "# ---"
   ]
  },
  {
   "cell_type": "markdown",
   "id": "4f234a91",
   "metadata": {},
   "source": [
    "A few points about this example:\n",
    "* The ```in``` keyword is used to specify the iterable over which we are looping.\n",
    "* The colon ```:``` begins the *body* of the loop.\n",
    "* **Indentation matters**: the same example would throw a syntax error if we omitted indentation."
   ]
  },
  {
   "cell_type": "code",
   "execution_count": 8,
   "id": "450ae634",
   "metadata": {},
   "outputs": [
    {
     "ename": "IndentationError",
     "evalue": "expected an indented block after 'for' statement on line 3 (3868318784.py, line 4)",
     "output_type": "error",
     "traceback": [
      "\u001b[0;36m  Cell \u001b[0;32mIn[8], line 4\u001b[0;36m\u001b[0m\n\u001b[0;31m    j+=i\u001b[0m\n\u001b[0m    ^\u001b[0m\n\u001b[0;31mIndentationError\u001b[0m\u001b[0;31m:\u001b[0m expected an indented block after 'for' statement on line 3\n"
     ]
    }
   ],
   "source": [
    "# sum the integers from 0 to 5\n",
    "j = 0 # hold my sum\n",
    "for i in [0,1 ,2, 3,4,5]:\n",
    "j+=i\n",
    "print(i, j)\n",
    "# ---"
   ]
  },
  {
   "cell_type": "markdown",
   "id": "37f22c4d",
   "metadata": {},
   "source": [
    "The case of looping over integers up to ```n``` is so common that there is a dedicated function for achieving exactly this behavior: the ```range()``` function. To count from ```0``` to ```n``` inclusive, loop over ```range(n+1)```:"
   ]
  },
  {
   "cell_type": "code",
   "execution_count": 9,
   "id": "e0ffed33",
   "metadata": {},
   "outputs": [
    {
     "name": "stdout",
     "output_type": "stream",
     "text": [
      "0 0\n",
      "1 1\n",
      "2 3\n",
      "3 6\n",
      "4 10\n",
      "5 15\n"
     ]
    }
   ],
   "source": [
    "j = 0\n",
    "for i in range(6):\n",
    "    j +=i\n",
    "    print(i, j)"
   ]
  },
  {
   "cell_type": "markdown",
   "id": "2885a2bd",
   "metadata": {},
   "source": [
    "## Iterating over strings\n",
    "\n",
    "Strings are also iterables:"
   ]
  },
  {
   "cell_type": "code",
   "execution_count": 10,
   "id": "9b22bbfb",
   "metadata": {},
   "outputs": [
    {
     "name": "stdout",
     "output_type": "stream",
     "text": [
      "t\n",
      "o\n",
      " \n",
      "b\n",
      "o\n",
      "l\n",
      "d\n",
      "l\n",
      "y\n",
      " \n",
      "g\n",
      "o\n"
     ]
    }
   ],
   "source": [
    "for l in \"to boldly go\":\n",
    "    print(l)"
   ]
  },
  {
   "cell_type": "markdown",
   "id": "27916216",
   "metadata": {},
   "source": [
    "There is also a verbose way to achieve the same result, which is sometimes useful:"
   ]
  },
  {
   "cell_type": "code",
   "execution_count": 11,
   "id": "3f2096bc",
   "metadata": {},
   "outputs": [
    {
     "name": "stdout",
     "output_type": "stream",
     "text": [
      "t\n",
      "o\n",
      " \n",
      "b\n",
      "o\n",
      "l\n",
      "d\n",
      "l\n",
      "y\n",
      " \n",
      "g\n",
      "o\n",
      "12\n"
     ]
    }
   ],
   "source": [
    "s = \"to boldly go\"\n",
    "for i in range(len(s)):\n",
    "    print(s[i])\n",
    "# ---\n",
    "print(len(s))"
   ]
  },
  {
   "cell_type": "markdown",
   "id": "c4a50323",
   "metadata": {},
   "source": [
    "We can use ```str.split()``` to loop over entire words:"
   ]
  },
  {
   "cell_type": "code",
   "execution_count": 12,
   "id": "30b27fc4",
   "metadata": {},
   "outputs": [
    {
     "name": "stdout",
     "output_type": "stream",
     "text": [
      "to\n",
      "boldly\n",
      "go\n"
     ]
    }
   ],
   "source": [
    "for w in \"to boldly go\".split():\n",
    "    print(w)\n",
    "# ---"
   ]
  },
  {
   "cell_type": "markdown",
   "id": "3bb80c20",
   "metadata": {},
   "source": [
    "## Indexing variable\n",
    "\n",
    "In each case, the indexing variable is assigned in global scope (i.e., outside the context of the for loop), and can be used later if desired."
   ]
  },
  {
   "cell_type": "code",
   "execution_count": 13,
   "id": "1f2f1444",
   "metadata": {},
   "outputs": [
    {
     "data": {
      "text/plain": [
       "(11, 'o', 'go')"
      ]
     },
     "execution_count": 13,
     "metadata": {},
     "output_type": "execute_result"
    }
   ],
   "source": [
    "i, l, w"
   ]
  },
  {
   "cell_type": "markdown",
   "id": "57ad5b93",
   "metadata": {},
   "source": [
    "The indexing variable is reassigned with each iteration of the loop. This can occasionally be a source of mistakes. For example, take a moment to consider the following code: what is the value of ```i``` at the end of the loop?"
   ]
  },
  {
   "cell_type": "code",
   "execution_count": 14,
   "id": "1f8d6c18",
   "metadata": {},
   "outputs": [],
   "source": [
    "i = 1\n",
    "for i in range(10):\n",
    "    i = i*2"
   ]
  },
  {
   "cell_type": "code",
   "execution_count": 15,
   "id": "7339807a",
   "metadata": {},
   "outputs": [
    {
     "data": {
      "text/plain": [
       "18"
      ]
     },
     "execution_count": 15,
     "metadata": {},
     "output_type": "execute_result"
    }
   ],
   "source": [
    "i"
   ]
  },
  {
   "cell_type": "markdown",
   "id": "169998a2",
   "metadata": {},
   "source": [
    "Compare to:"
   ]
  },
  {
   "cell_type": "code",
   "execution_count": 16,
   "id": "d8b95608",
   "metadata": {},
   "outputs": [],
   "source": [
    "j = 1\n",
    "for i in range(10):\n",
    "    j = j*2"
   ]
  },
  {
   "cell_type": "code",
   "execution_count": 17,
   "id": "8ee31918",
   "metadata": {},
   "outputs": [
    {
     "data": {
      "text/plain": [
       "1024"
      ]
     },
     "execution_count": 17,
     "metadata": {},
     "output_type": "execute_result"
    }
   ],
   "source": [
    "j"
   ]
  },
  {
   "cell_type": "markdown",
   "id": "aaeae5ab",
   "metadata": {},
   "source": [
    "## Creating lists with for loops\n",
    "\n",
    "A versatile way to construct lists is by first initiating an empty list, and then incrementally adding to it. Suppose I wanted to make a list of all integer squares up to 100. Here's a way to do this with a for loop:"
   ]
  },
  {
   "cell_type": "code",
   "execution_count": 18,
   "id": "fbf5a49b",
   "metadata": {},
   "outputs": [
    {
     "data": {
      "text/plain": [
       "[1, 4, 9, 16, 25, 36, 49, 64, 81, 100]"
      ]
     },
     "execution_count": 18,
     "metadata": {},
     "output_type": "execute_result"
    }
   ],
   "source": [
    "squares = []\n",
    "for i in range(1, 11): # iterating from 1 to 10 inclusive\n",
    "    squares.append(i**2) # each time adding i**2 to the end of the list\n",
    "\n",
    "squares"
   ]
  },
  {
   "cell_type": "markdown",
   "id": "04e16c03",
   "metadata": {},
   "source": [
    "## List comprehensions\n",
    "\n",
    "A much more compact and readable way to construct lists is provided by list comprehensions. List comprehensions are inspired by \"set-builder\" notation in mathematics. For example, we might write the ```squares``` list from above as\n",
    "\\begin{equation}\n",
    "    \\{i^{2}| 1 \\leq i \\leq 10\\}.\n",
    "\\end{equation}\n",
    "List comprehensions allow us to write very similar Python code, using the ```for``` keyword again."
   ]
  },
  {
   "cell_type": "code",
   "execution_count": 19,
   "id": "161edbda",
   "metadata": {},
   "outputs": [
    {
     "data": {
      "text/plain": [
       "[1, 4, 9, 16, 25, 36, 49, 64, 81, 100]"
      ]
     },
     "execution_count": 19,
     "metadata": {},
     "output_type": "execute_result"
    }
   ],
   "source": [
    "squares = [i**2 for i in range(1, 11)]\n",
    "\n",
    "squares"
   ]
  },
  {
   "cell_type": "markdown",
   "id": "919783ac",
   "metadata": {},
   "source": [
    "We were able to condense the three lines of code from our for-loop into just one, readable line. Similarly,"
   ]
  },
  {
   "cell_type": "code",
   "execution_count": 21,
   "id": "9b8782ea",
   "metadata": {},
   "outputs": [
    {
     "data": {
      "text/plain": [
       "[2, 6, 2]"
      ]
     },
     "execution_count": 21,
     "metadata": {},
     "output_type": "execute_result"
    }
   ],
   "source": [
    "word_lengths = [len(word) for word in s.split()]\n",
    "\n",
    "word_lengths"
   ]
  },
  {
   "cell_type": "markdown",
   "id": "5374d47a",
   "metadata": {},
   "source": [
    "We can also write *conditional* comprehensions to construct even more complex lists:"
   ]
  },
  {
   "cell_type": "code",
   "execution_count": 22,
   "id": "426acf31",
   "metadata": {},
   "outputs": [
    {
     "data": {
      "text/plain": [
       "[4, 16, 36, 64, 100, 144, 196, 256, 324, 400]"
      ]
     },
     "execution_count": 22,
     "metadata": {},
     "output_type": "execute_result"
    }
   ],
   "source": [
    "even_squares = [i**2 for i in range(1, 21) if i % 2 == 0]\n",
    "\n",
    "even_squares"
   ]
  },
  {
   "cell_type": "markdown",
   "id": "d6fee06a",
   "metadata": {},
   "source": [
    "We can iterate over multiple indexing variables:"
   ]
  },
  {
   "cell_type": "code",
   "execution_count": 23,
   "id": "da4986f7",
   "metadata": {},
   "outputs": [
    {
     "data": {
      "text/plain": [
       "[4, 5, 6, 8, 10, 12, 12, 15, 18]"
      ]
     },
     "execution_count": 23,
     "metadata": {},
     "output_type": "execute_result"
    }
   ],
   "source": [
    "products = [i * j for i in [1, 2, 3] for j in [4, 5, 6]]\n",
    "\n",
    "products    "
   ]
  },
  {
   "cell_type": "markdown",
   "id": "791197e0",
   "metadata": {},
   "source": [
    "We can also easily construct lists of lists:"
   ]
  },
  {
   "cell_type": "code",
   "execution_count": 24,
   "id": "79f2e914",
   "metadata": {},
   "outputs": [
    {
     "data": {
      "text/plain": [
       "[[4, 8, 12], [5, 10, 15], [6, 12, 18]]"
      ]
     },
     "execution_count": 24,
     "metadata": {},
     "output_type": "execute_result"
    }
   ],
   "source": [
    "products_2 = [[i*j for i in [1, 2, 3]] for j in [4, 5, 6]]\n",
    "\n",
    "products_2"
   ]
  },
  {
   "cell_type": "markdown",
   "id": "c4d25fc9",
   "metadata": {},
   "source": [
    "Comprehensions are a powerful tool which should often be preferred to for-loops when constructing lists."
   ]
  },
  {
   "cell_type": "markdown",
   "id": "94d236df",
   "metadata": {},
   "source": [
    "# More control flow\n",
    "\n",
    "So far, we have introduced the for-loop -- the simplest way to iterate through data. Now, we'll add while loops for iteration, as well as if statements for conditional branching.\n",
    "\n",
    "* Iteration (repeating an operation)\n",
    "* Branching (performing different operations depending on conditions)\n",
    "\n",
    "We'll move quickly through this material, since these concepts should be familiar from your experience with PIC10A -- only the syntax changes.\n",
    "\n",
    "Two important pieces of syntax:\n",
    "\n",
    "* The declaration of both loops and conditionals must end with a colon ```:```.\n",
    "* **Whitespace matters**. The body of a loop or branching statement **must be indented**, else Python will throw a syntax error.\n",
    "\n",
    "## Iteration with while loops\n",
    "\n",
    "A while-loop will repeat a given sequence of commands as long as a Boolean (logical) condition evaluates to ```True```. The first time that that condition evaluates to ```False```, the loop will halt -- no more iterations will take place. The primary application of while loops is to iterate when you are not sure how many iterations are required.\n",
    "\n",
    "Unlike for loops, it is necessary to initialize the variable of iteration prior to beginning the loop.\n",
    "\n",
    "Make sure that the loop will indeed terminate!"
   ]
  },
  {
   "cell_type": "code",
   "execution_count": null,
   "id": "997ff4d3",
   "metadata": {},
   "outputs": [],
   "source": []
  },
  {
   "cell_type": "markdown",
   "id": "4eb052da",
   "metadata": {},
   "source": [
    "Remember also that the full body of the loop executes after checking the condition. For example, consider the following attempt to find the largest power of 3 less than 10,000:"
   ]
  },
  {
   "cell_type": "code",
   "execution_count": null,
   "id": "938b12fc",
   "metadata": {},
   "outputs": [],
   "source": [
    "# largest power of 3 less than 10,000 -- failed\n"
   ]
  },
  {
   "cell_type": "markdown",
   "id": "711c4880",
   "metadata": {},
   "source": [
    "This function fails because the multiplication occurs after the condition ```x < 1e5``` is checked. So, instead we have to do this:"
   ]
  },
  {
   "cell_type": "code",
   "execution_count": null,
   "id": "8109fe5c",
   "metadata": {},
   "outputs": [],
   "source": [
    "# largest power of 3 less than 10,000\n"
   ]
  },
  {
   "cell_type": "markdown",
   "id": "7f147834",
   "metadata": {},
   "source": [
    "## Branching with if statements\n",
    "\n",
    "If statements allow you to perform different blocks of code based on logical tests. Any expression that evaluates to ```True``` or ```False``` (i.e., a Boolean) can be used. Some useful examples of Boolean expressions:"
   ]
  },
  {
   "cell_type": "code",
   "execution_count": null,
   "id": "c636e0a9",
   "metadata": {},
   "outputs": [],
   "source": []
  },
  {
   "cell_type": "code",
   "execution_count": null,
   "id": "cbac74df",
   "metadata": {},
   "outputs": [],
   "source": []
  },
  {
   "cell_type": "code",
   "execution_count": null,
   "id": "0e8db4f3",
   "metadata": {},
   "outputs": [],
   "source": [
    "# Boolean or\n"
   ]
  },
  {
   "cell_type": "markdown",
   "id": "93b898c1",
   "metadata": {},
   "source": [
    "No we can try an example of if statements:"
   ]
  },
  {
   "cell_type": "code",
   "execution_count": null,
   "id": "a3abbcf1",
   "metadata": {},
   "outputs": [],
   "source": [
    "\n",
    "# ---"
   ]
  },
  {
   "cell_type": "code",
   "execution_count": null,
   "id": "0e488993",
   "metadata": {},
   "outputs": [],
   "source": [
    "# print odd numbers 1-9\n",
    "\n",
    "# ---"
   ]
  },
  {
   "cell_type": "markdown",
   "id": "b4e1f285",
   "metadata": {},
   "source": [
    "## ```break``` and ```continue```\n",
    "\n",
    "Having equipped ourselves with if statements, we can now explore two additional constructs for use in while loops: ```break``` and ```continue```. Roughly, ```break``` can be used to halt an entire while loop, while continue can be used to halt a single iteration and move on to the next one.\n",
    "\n",
    "``` while <expr>:\n",
    "        <statement>\n",
    "        <statement>\n",
    "        break # this goes straight out of the loop onto the statement below the loop\n",
    "        <statement>\n",
    "        <statement>\n",
    "        continue # this skips the rest of the statements in the while loop and goes up to the next iteration of the loop\n",
    "        <statement>\n",
    "        <statement>\n",
    "<statement>```\n",
    "\n",
    "First, let's try using ```break``` to check if a number is a power of 3:"
   ]
  },
  {
   "cell_type": "code",
   "execution_count": null,
   "id": "91a012ba",
   "metadata": {},
   "outputs": [],
   "source": [
    "\n",
    "# ---"
   ]
  },
  {
   "cell_type": "markdown",
   "id": "95dfe1f8",
   "metadata": {},
   "source": [
    "Suppose that we want to print out every number 1 through 10, except for multiples of 4. The ```continue``` statement will prematurely end the current iteration and begin a new one, allowing us to exclude those multiples."
   ]
  },
  {
   "cell_type": "code",
   "execution_count": null,
   "id": "1e322fb5",
   "metadata": {},
   "outputs": [],
   "source": [
    "\n",
    "# ---"
   ]
  },
  {
   "cell_type": "markdown",
   "id": "a2734cd6",
   "metadata": {},
   "source": [
    "While we were able to use ```break``` and continue in these examples, one can usually achieve the same results by carefully manipulating the while-expression directly (in the case of ```break```) or by using branching logic (in the case of continue). Because of this, ```break``` and ```continue``` should be used sparingly if at all."
   ]
  },
  {
   "cell_type": "code",
   "execution_count": null,
   "id": "0120a72a",
   "metadata": {},
   "outputs": [],
   "source": []
  }
 ],
 "metadata": {
  "kernelspec": {
   "display_name": "Python 3 (ipykernel)",
   "language": "python",
   "name": "python3"
  },
  "language_info": {
   "codemirror_mode": {
    "name": "ipython",
    "version": 3
   },
   "file_extension": ".py",
   "mimetype": "text/x-python",
   "name": "python",
   "nbconvert_exporter": "python",
   "pygments_lexer": "ipython3",
   "version": "3.11.2"
  }
 },
 "nbformat": 4,
 "nbformat_minor": 5
}
