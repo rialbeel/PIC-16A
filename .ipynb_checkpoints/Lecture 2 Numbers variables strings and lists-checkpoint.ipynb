{
 "cells": [
  {
   "cell_type": "markdown",
   "id": "f1093102",
   "metadata": {},
   "source": [
    "# Lecture 2: Numbers and variables, strings and lists"
   ]
  },
  {
   "cell_type": "markdown",
   "id": "ad67c134",
   "metadata": {},
   "source": [
    "In this lecture, we will introduce basic numerical operations in Python. In particular, we will discuss:\n",
    "* Python's representation of numbers.\n",
    "* Operations on numbers.\n",
    "* Identity and equality of variables."
   ]
  },
  {
   "cell_type": "markdown",
   "id": "ccb1e8ce",
   "metadata": {},
   "source": [
    "## Python as a calculator\n",
    "\n",
    "Because Python s an interactive language, it is a very practical substitute for a calculator. Let's try a few simple computations.\n",
    "\n",
    "The easiest way to do this is to type in the computation that you would like to do; for example,"
   ]
  },
  {
   "cell_type": "code",
   "execution_count": 23,
   "id": "c82a9ee0",
   "metadata": {},
   "outputs": [
    {
     "data": {
      "text/plain": [
       "4"
      ]
     },
     "execution_count": 23,
     "metadata": {},
     "output_type": "execute_result"
    }
   ],
   "source": [
    "# addition\n",
    "2 + 2"
   ]
  },
  {
   "cell_type": "code",
   "execution_count": 24,
   "id": "39e1e506",
   "metadata": {},
   "outputs": [
    {
     "data": {
      "text/plain": [
       "6"
      ]
     },
     "execution_count": 24,
     "metadata": {},
     "output_type": "execute_result"
    }
   ],
   "source": [
    "# multiplication and addition\n",
    "2 * (1 + 2)"
   ]
  },
  {
   "cell_type": "code",
   "execution_count": 25,
   "id": "ebc49417",
   "metadata": {},
   "outputs": [
    {
     "data": {
      "text/plain": [
       "2.0"
      ]
     },
     "execution_count": 25,
     "metadata": {},
     "output_type": "execute_result"
    }
   ],
   "source": [
    "# division turns integers into floating-point numbers; i.e., decimals\n",
    "12/6"
   ]
  },
  {
   "cell_type": "code",
   "execution_count": 26,
   "id": "0163aa55",
   "metadata": {},
   "outputs": [
    {
     "data": {
      "text/plain": [
       "2.4"
      ]
     },
     "execution_count": 26,
     "metadata": {},
     "output_type": "execute_result"
    }
   ],
   "source": [
    "# division which results in a decimal point\n",
    "12/5"
   ]
  },
  {
   "cell_type": "code",
   "execution_count": 27,
   "id": "c51729d4",
   "metadata": {},
   "outputs": [
    {
     "data": {
      "text/plain": [
       "2"
      ]
     },
     "execution_count": 27,
     "metadata": {},
     "output_type": "execute_result"
    }
   ],
   "source": [
    "# remainder after division\n",
    "12%5"
   ]
  },
  {
   "cell_type": "code",
   "execution_count": 5,
   "id": "24459034",
   "metadata": {},
   "outputs": [
    {
     "data": {
      "text/plain": [
       "4"
      ]
     },
     "execution_count": 5,
     "metadata": {},
     "output_type": "execute_result"
    }
   ],
   "source": [
    "# taking powers\n",
    "2 ** 2"
   ]
  },
  {
   "cell_type": "markdown",
   "id": "5e152793",
   "metadata": {},
   "source": [
    "Most of the same operations work with floating point numbers; however, some surprises are possible."
   ]
  },
  {
   "cell_type": "code",
   "execution_count": 32,
   "id": "47f81352",
   "metadata": {},
   "outputs": [
    {
     "data": {
      "text/plain": [
       "2.5999999999999996"
      ]
     },
     "execution_count": 32,
     "metadata": {},
     "output_type": "execute_result"
    }
   ],
   "source": [
    "# addition\n",
    "1.4 + 1.2"
   ]
  },
  {
   "cell_type": "code",
   "execution_count": 4,
   "id": "724e21ff",
   "metadata": {},
   "outputs": [
    {
     "data": {
      "text/plain": [
       "6.63459525803801"
      ]
     },
     "execution_count": 4,
     "metadata": {},
     "output_type": "execute_result"
    }
   ],
   "source": [
    "#taking powers\n",
    "2.2 ** 2.4"
   ]
  },
  {
   "cell_type": "code",
   "execution_count": 35,
   "id": "44a0afc4",
   "metadata": {},
   "outputs": [
    {
     "data": {
      "text/plain": [
       "1.1999999999999993"
      ]
     },
     "execution_count": 35,
     "metadata": {},
     "output_type": "execute_result"
    }
   ],
   "source": [
    "# remainders\n",
    "12.7 % 11.5"
   ]
  },
  {
   "cell_type": "markdown",
   "id": "8e58f7e3",
   "metadata": {},
   "source": [
    "We didn't expect that when taking the remainder, since ```12.7 - 1*11.5 = 1.2 ```.\n",
    "\n",
    "Recall that ```%``` refers to the remainder after division. In this case, 12.7 \"goes into\" 11.5 one time.\n",
    "\n",
    "Just like in C++, Python's implementation of floating-point numbers (i.e., decimals) has finite precision. This means that most numbers cannot be represented exactly. The result above reflects this fact. Python cannot represent 1.2 exactly, so it uses a close approximation in floating-point representation.\n",
    "\n",
    "As you might expect, the square root of ```-1``` yields a complex number."
   ]
  },
  {
   "cell_type": "code",
   "execution_count": 10,
   "id": "086755d7",
   "metadata": {},
   "outputs": [
    {
     "data": {
      "text/plain": [
       "1j"
      ]
     },
     "execution_count": 10,
     "metadata": {},
     "output_type": "execute_result"
    }
   ],
   "source": [
    "import cmath\n",
    "cmath.sqrt(-1)"
   ]
  },
  {
   "cell_type": "markdown",
   "id": "170c166c",
   "metadata": {},
   "source": [
    "Again, here we are getting a slight error in the real part being a really small non-zero number, in Python complex numbers are represented by ```j``` and not by $i$ as you may be used to."
   ]
  },
  {
   "cell_type": "markdown",
   "id": "5c94f122",
   "metadata": {},
   "source": [
    "## Variables"
   ]
  },
  {
   "cell_type": "markdown",
   "id": "b159db02",
   "metadata": {},
   "source": [
    "When writing code, it is almost always best to give names to important numbers. You can then use these numbers in subsequent computations, this names are called variables."
   ]
  },
  {
   "cell_type": "code",
   "execution_count": 39,
   "id": "a28a2d44",
   "metadata": {},
   "outputs": [
    {
     "data": {
      "text/plain": [
       "32.7"
      ]
     },
     "execution_count": 39,
     "metadata": {},
     "output_type": "execute_result"
    }
   ],
   "source": [
    "# adding x and y is the same as adding their values (27.3 and 5.4)\n",
    "x = 27.3\n",
    "y = 5.4\n",
    "x + y"
   ]
  },
  {
   "cell_type": "markdown",
   "id": "363e8db4",
   "metadata": {},
   "source": [
    "This code block creates the variables ```x``` and ```y``` with values 27.3 and 5.4, respectively, and then prints their sum.\n",
    "\n",
    "You can also assign names to the outputs of computations."
   ]
  },
  {
   "cell_type": "code",
   "execution_count": 38,
   "id": "67c588bb",
   "metadata": {},
   "outputs": [
    {
     "data": {
      "text/plain": [
       "32.7"
      ]
     },
     "execution_count": 38,
     "metadata": {},
     "output_type": "execute_result"
    }
   ],
   "source": [
    "# create a variable z which has value x + y\n",
    "z = x + y\n",
    "z"
   ]
  },
  {
   "cell_type": "markdown",
   "id": "c3760fa9",
   "metadata": {},
   "source": [
    "### Identity and Equality of Variables"
   ]
  },
  {
   "cell_type": "markdown",
   "id": "bffcadee",
   "metadata": {},
   "source": [
    "When are two variables \"the same\"? It's easy to check the ```id``` of a variable in Python -- this indicates the location in memory to which the name of the variable points. We can also use the ```is``` binary operator to check whether two variables point to the same memory location. The ```is``` operator should not be confused with ```==```. The ```==``` operator checks whether two variables have the same value, regardless of whether they refer to the same object.\n",
    "\n",
    "To clarify the difference, consider the following scenarios:\n",
    "1. You and I have each laid claim to the same stack of four cookies. Then, ```your_stack``` and ```my_stack``` are both variables with value 4. Thus, ```your_stack == my_stack``` (they have the same value). Because each variable refers to the same stack of cookies, it also holds that ```your_stack is my_stack```.\n",
    "2.On the other hand, suppose that we each have a stack of four cookies. Then, ```your_stack``` and ```my_stack``` are again variables of value 4, and ```your_stack == my_stack```. However, these two variables now refer to different stacks of cookies, and so it is **not** the case that ```your_stack is my_stack```.\n",
    "\n",
    "Variables whose values are immutable (cannot be changed) often share the same memory. Integers, floats, and strings are examples of immutable types in Python."
   ]
  },
  {
   "cell_type": "code",
   "execution_count": 40,
   "id": "4e9891a6",
   "metadata": {},
   "outputs": [
    {
     "data": {
      "text/plain": [
       "True"
      ]
     },
     "execution_count": 40,
     "metadata": {},
     "output_type": "execute_result"
    }
   ],
   "source": [
    "# initialise x and y, are they equal?\n",
    "x = 4\n",
    "y = 4\n",
    "x == 4"
   ]
  },
  {
   "cell_type": "code",
   "execution_count": 42,
   "id": "b5ad3077",
   "metadata": {},
   "outputs": [
    {
     "data": {
      "text/plain": [
       "(4348128456, 4348128456)"
      ]
     },
     "execution_count": 42,
     "metadata": {},
     "output_type": "execute_result"
    }
   ],
   "source": [
    "# are x and y the same?\n",
    "id(x), id(y)"
   ]
  },
  {
   "cell_type": "code",
   "execution_count": 14,
   "id": "82f8c38e",
   "metadata": {},
   "outputs": [],
   "source": [
    "# Checking if x and y are the same\n",
    "id(x)==id(y)"
   ]
  },
  {
   "cell_type": "markdown",
   "id": "b69fadd3",
   "metadata": {},
   "source": [
    "On the other hand, mutable variables like lists will generally not share memory (we haven't formally introduced lists yet -- all you need to know for now is that they are data structures can be altered)."
   ]
  },
  {
   "cell_type": "code",
   "execution_count": 11,
   "id": "62e5aea5",
   "metadata": {},
   "outputs": [],
   "source": [
    "# initialise two lists that are the same\n",
    "a = [1, 2, 3]\n",
    "b = [1, 2, 3]\n",
    "# assign a new variable c the value of a\n",
    "c = a"
   ]
  },
  {
   "cell_type": "code",
   "execution_count": 12,
   "id": "90d4952a",
   "metadata": {},
   "outputs": [
    {
     "data": {
      "text/plain": [
       "(4387518464, 4387483520, 4387518464)"
      ]
     },
     "execution_count": 12,
     "metadata": {},
     "output_type": "execute_result"
    }
   ],
   "source": [
    "# are they the same? (are their ids the same)\n",
    "id(a), id(b), id(c)"
   ]
  },
  {
   "cell_type": "code",
   "execution_count": 15,
   "id": "e9ba8e98",
   "metadata": {},
   "outputs": [
    {
     "name": "stdout",
     "output_type": "stream",
     "text": [
      "False\n",
      "True\n"
     ]
    }
   ],
   "source": [
    "# are they the same, do they hold the same value?\n",
    "print(id(a) == id(b))\n",
    "print(id(a) == id(c))"
   ]
  },
  {
   "cell_type": "code",
   "execution_count": 18,
   "id": "134110b1",
   "metadata": {},
   "outputs": [],
   "source": [
    "# what about c?"
   ]
  },
  {
   "cell_type": "code",
   "execution_count": 16,
   "id": "f69680c4",
   "metadata": {},
   "outputs": [
    {
     "data": {
      "text/plain": [
       "True"
      ]
     },
     "execution_count": 16,
     "metadata": {},
     "output_type": "execute_result"
    }
   ],
   "source": [
    "# are a and c the same, do they hold the same value?\n",
    "a == c"
   ]
  },
  {
   "cell_type": "markdown",
   "id": "2bbd421c",
   "metadata": {},
   "source": [
    "# Working with text data: Strings\n",
    "\n",
    "A *string* is a series of one or more characters enclosed in either ```'single'``` or ```\"double\"``` quotation marks. For most strings, it does not matter whether you use single or double quotes:"
   ]
  },
  {
   "cell_type": "code",
   "execution_count": 20,
   "id": "a0db81da",
   "metadata": {},
   "outputs": [],
   "source": [
    "# two strings with the same characters but differing in being defined with single and double quotes.\n",
    "a = \"to boldly go\"\n",
    "b = 'to boldly go'\n",
    "# are a and b considered having the same value?"
   ]
  },
  {
   "cell_type": "markdown",
   "id": "1e136b6f",
   "metadata": {},
   "source": [
    "How about if we actually want to use quotations in the string:"
   ]
  },
  {
   "cell_type": "code",
   "execution_count": 21,
   "id": "b294efb7",
   "metadata": {},
   "outputs": [
    {
     "data": {
      "text/plain": [
       "\"Picard says 'to boldly go'\""
      ]
     },
     "execution_count": 21,
     "metadata": {},
     "output_type": "execute_result"
    }
   ],
   "source": [
    "a = \"Picard says 'to boldly go'\"\n",
    "b = 'Picard says \"to boldly go\"'\n",
    "#c = \"Picard says \"to boldly go\"\"\n",
    "a"
   ]
  },
  {
   "cell_type": "markdown",
   "id": "0a562957",
   "metadata": {},
   "source": [
    "What if you need to use the same kind of quotes more than once in the same string. For this we use escape characters; i.e., ```\\'``` or ```\\\"```."
   ]
  },
  {
   "cell_type": "code",
   "execution_count": 18,
   "id": "c4d2c012",
   "metadata": {},
   "outputs": [
    {
     "data": {
      "text/plain": [
       "'Picard says \"That\\'s Kirk\\'s line\"'"
      ]
     },
     "execution_count": 18,
     "metadata": {},
     "output_type": "execute_result"
    }
   ],
   "source": [
    "d = 'Picard says \"That\\'s Kirk\\'s line\"'\n",
    "d"
   ]
  },
  {
   "cell_type": "markdown",
   "id": "8baddc88",
   "metadata": {},
   "source": [
    "The ```print()``` function displays a pleasant human-readable representation of many python objects."
   ]
  },
  {
   "cell_type": "code",
   "execution_count": 19,
   "id": "3008f49d",
   "metadata": {},
   "outputs": [
    {
     "name": "stdout",
     "output_type": "stream",
     "text": [
      "Picard says \"That's Kirk's line\"\n"
     ]
    }
   ],
   "source": [
    "print(d)"
   ]
  },
  {
   "cell_type": "markdown",
   "id": "eedab2a5",
   "metadata": {},
   "source": [
    "### Basic string manipulations\n",
    "\n",
    "Python gives us several ways to manipulate strings. An especially important one is concatenation, which can be achieved with ```+```:"
   ]
  },
  {
   "cell_type": "code",
   "execution_count": 21,
   "id": "4213656b",
   "metadata": {},
   "outputs": [
    {
     "data": {
      "text/plain": [
       "'to boldly go'"
      ]
     },
     "execution_count": 21,
     "metadata": {},
     "output_type": "execute_result"
    }
   ],
   "source": [
    "# adding two strings\n",
    "\"to \" + \"boldly go\""
   ]
  },
  {
   "cell_type": "markdown",
   "id": "2a86ef05",
   "metadata": {},
   "source": [
    "We can also do \"multiplication\", in the context of strings, multiplication means repition:"
   ]
  },
  {
   "cell_type": "code",
   "execution_count": 23,
   "id": "9fcc6867",
   "metadata": {},
   "outputs": [
    {
     "data": {
      "text/plain": [
       "'hello world hello world hello world '"
      ]
     },
     "execution_count": 23,
     "metadata": {},
     "output_type": "execute_result"
    }
   ],
   "source": [
    "3 * \"hello world \""
   ]
  },
  {
   "cell_type": "markdown",
   "id": "873dcda6",
   "metadata": {},
   "source": [
    "Concatenation is a useful tool for constructing strings using variables:"
   ]
  },
  {
   "cell_type": "code",
   "execution_count": 24,
   "id": "06ad2037",
   "metadata": {},
   "outputs": [
    {
     "data": {
      "text/plain": [
       "'to boldly go'"
      ]
     },
     "execution_count": 24,
     "metadata": {},
     "output_type": "execute_result"
    }
   ],
   "source": [
    "x = \"boldly\"\n",
    "\"to \" + x + \" go\""
   ]
  },
  {
   "cell_type": "markdown",
   "id": "1841162f",
   "metadata": {},
   "source": [
    "When we want to form messages involving numbers, we generally need to use the ```str()``` function to convert those numbers into strings prior to concatenation:"
   ]
  },
  {
   "cell_type": "code",
   "execution_count": 25,
   "id": "0505d1b9",
   "metadata": {},
   "outputs": [
    {
     "ename": "TypeError",
     "evalue": "can only concatenate str (not \"int\") to str",
     "output_type": "error",
     "traceback": [
      "\u001b[0;31m---------------------------------------------------------------------------\u001b[0m",
      "\u001b[0;31mTypeError\u001b[0m                                 Traceback (most recent call last)",
      "Cell \u001b[0;32mIn[25], line 2\u001b[0m\n\u001b[1;32m      1\u001b[0m x \u001b[38;5;241m=\u001b[39m \u001b[38;5;241m9\u001b[39m\n\u001b[0;32m----> 2\u001b[0m \u001b[38;5;124m\"\u001b[39m\u001b[38;5;124mDeep Space \u001b[39m\u001b[38;5;124m\"\u001b[39m \u001b[38;5;241m+\u001b[39m \u001b[38;5;241m9\u001b[39m\n",
      "\u001b[0;31mTypeError\u001b[0m: can only concatenate str (not \"int\") to str"
     ]
    }
   ],
   "source": [
    "x = 9\n",
    "\"Deep Space \" + 9"
   ]
  },
  {
   "cell_type": "code",
   "execution_count": 26,
   "id": "c26f0849",
   "metadata": {},
   "outputs": [
    {
     "data": {
      "text/plain": [
       "'Deep Space 9'"
      ]
     },
     "execution_count": 26,
     "metadata": {},
     "output_type": "execute_result"
    }
   ],
   "source": [
    "# let's do this using str()\n",
    "\"Deep Space \" + str(9)"
   ]
  },
  {
   "cell_type": "markdown",
   "id": "9f1e3466",
   "metadata": {},
   "source": [
    "### String indexing\n",
    "\n",
    "Like C++, Python uses 0-based indexing. It also supports indices to count backwards from the end of a string."
   ]
  },
  {
   "cell_type": "code",
   "execution_count": 1,
   "id": "ebb56ca4",
   "metadata": {},
   "outputs": [],
   "source": [
    "s = \"Alpha Quadrant\""
   ]
  },
  {
   "cell_type": "code",
   "execution_count": 2,
   "id": "f43656a5",
   "metadata": {},
   "outputs": [
    {
     "data": {
      "text/plain": [
       "'A'"
      ]
     },
     "execution_count": 2,
     "metadata": {},
     "output_type": "execute_result"
    }
   ],
   "source": [
    "s[0]"
   ]
  },
  {
   "cell_type": "code",
   "execution_count": 4,
   "id": "1843a11c",
   "metadata": {},
   "outputs": [
    {
     "data": {
      "text/plain": [
       "'t'"
      ]
     },
     "execution_count": 4,
     "metadata": {},
     "output_type": "execute_result"
    }
   ],
   "source": [
    "s[-1] # to access the last element of the string"
   ]
  },
  {
   "cell_type": "markdown",
   "id": "5b7b6ca5",
   "metadata": {},
   "source": [
    "Take a moment to predict the output of the following:"
   ]
  },
  {
   "cell_type": "code",
   "execution_count": 5,
   "id": "9dd92f43",
   "metadata": {},
   "outputs": [
    {
     "data": {
      "text/plain": [
       "('p', 'n')"
      ]
     },
     "execution_count": 5,
     "metadata": {},
     "output_type": "execute_result"
    }
   ],
   "source": [
    "s[2], s[-2]"
   ]
  },
  {
   "cell_type": "markdown",
   "id": "f15814f1",
   "metadata": {},
   "source": [
    "We can easily grab substrings using the ```:``` operator. ```s[start:stop]``` will get letters starting at index start, up to and not including index stop"
   ]
  },
  {
   "cell_type": "code",
   "execution_count": 6,
   "id": "a94d5464",
   "metadata": {},
   "outputs": [
    {
     "data": {
      "text/plain": [
       "'Alp'"
      ]
     },
     "execution_count": 6,
     "metadata": {},
     "output_type": "execute_result"
    }
   ],
   "source": [
    "s[0:3]"
   ]
  },
  {
   "cell_type": "code",
   "execution_count": 7,
   "id": "5c0977a6",
   "metadata": {},
   "outputs": [
    {
     "data": {
      "text/plain": [
       "'ra'"
      ]
     },
     "execution_count": 7,
     "metadata": {},
     "output_type": "execute_result"
    }
   ],
   "source": [
    "s[-4:-2]"
   ]
  },
  {
   "cell_type": "markdown",
   "id": "20d08d0f",
   "metadata": {},
   "source": [
    "We can also use the syntax ```s[start:stop:interval]``` to get letters that are ```interval``` apart."
   ]
  },
  {
   "cell_type": "code",
   "execution_count": 8,
   "id": "6efc657d",
   "metadata": {},
   "outputs": [
    {
     "data": {
      "text/plain": [
       "'Apa'"
      ]
     },
     "execution_count": 8,
     "metadata": {},
     "output_type": "execute_result"
    }
   ],
   "source": [
    "# every other letter from indices 0 through 5\n",
    "s[0:6:2] # start is 0, stop is 6, and interval is 2"
   ]
  },
  {
   "cell_type": "code",
   "execution_count": 9,
   "id": "fb35c59b",
   "metadata": {},
   "outputs": [
    {
     "data": {
      "text/plain": [
       "'ApaQarn'"
      ]
     },
     "execution_count": 9,
     "metadata": {},
     "output_type": "execute_result"
    }
   ],
   "source": [
    "# if we leave start and stop blank indices then you want to go through the whole string\n",
    "s[::2]"
   ]
  },
  {
   "cell_type": "code",
   "execution_count": 11,
   "id": "585856fb",
   "metadata": {},
   "outputs": [
    {
     "data": {
      "text/plain": [
       "'tnardauQ ahplA'"
      ]
     },
     "execution_count": 11,
     "metadata": {},
     "output_type": "execute_result"
    }
   ],
   "source": [
    "# s backwards\n",
    "s[::-1]"
   ]
  },
  {
   "cell_type": "markdown",
   "id": "557a02b8",
   "metadata": {},
   "source": [
    "An important thing you can't do with string indexing is modify the letters in a string. This is because strings are immutable (cannot be changed in place)."
   ]
  },
  {
   "cell_type": "code",
   "execution_count": 12,
   "id": "26512c61",
   "metadata": {},
   "outputs": [
    {
     "ename": "TypeError",
     "evalue": "'str' object does not support item assignment",
     "output_type": "error",
     "traceback": [
      "\u001b[0;31m---------------------------------------------------------------------------\u001b[0m",
      "\u001b[0;31mTypeError\u001b[0m                                 Traceback (most recent call last)",
      "Cell \u001b[0;32mIn[12], line 1\u001b[0m\n\u001b[0;32m----> 1\u001b[0m s[\u001b[38;5;241m0\u001b[39m] \u001b[38;5;241m=\u001b[39m \u001b[38;5;124m'\u001b[39m\u001b[38;5;124ma\u001b[39m\u001b[38;5;124m'\u001b[39m\n",
      "\u001b[0;31mTypeError\u001b[0m: 'str' object does not support item assignment"
     ]
    }
   ],
   "source": [
    "s[0] = 'a'"
   ]
  },
  {
   "cell_type": "markdown",
   "id": "63d56312",
   "metadata": {},
   "source": [
    "Later, we'll try out a few string methods: functions that allow you to programmatically alter strings, like this:"
   ]
  },
  {
   "cell_type": "code",
   "execution_count": 18,
   "id": "12fafa9c",
   "metadata": {},
   "outputs": [
    {
     "data": {
      "text/plain": [
       "'Gamma Quadrant'"
      ]
     },
     "execution_count": 18,
     "metadata": {},
     "output_type": "execute_result"
    }
   ],
   "source": [
    "# dot notation in Python for member functions\n",
    "# this function is like \"pass by value\" in C++\n",
    "s.replace(\"Alpha\",\"Gamma\")"
   ]
  },
  {
   "cell_type": "markdown",
   "id": "d8afd838",
   "metadata": {},
   "source": [
    "# Introduction to iterables: Lists\n",
    "\n",
    "An *iterable* is just a collection of items that supports iteration -- you can access the objects one item at a time, often in a specified order. The simplest Python iterable is the list.\n",
    "\n",
    "A ```list``` is an ordered sequence of arbitrary objects, which can be accessed and altered via numerical indexing. The simplext way to construct a list is to enclose a set of objects, seperated by ```,```, within brackets ```[]```. For example, here's a list of strings:"
   ]
  },
  {
   "cell_type": "code",
   "execution_count": 19,
   "id": "6f4aad94",
   "metadata": {},
   "outputs": [],
   "source": [
    "L = [\"Kirk\", \"Picard\", \"Sisko\", \"Janeway\"]"
   ]
  },
  {
   "cell_type": "markdown",
   "id": "266c627a",
   "metadata": {},
   "source": [
    "Lists can be accessed via index, in similar fashion to strings. Like strings, lists are 0-indexed."
   ]
  },
  {
   "cell_type": "code",
   "execution_count": 20,
   "id": "3eb0d4b0",
   "metadata": {},
   "outputs": [
    {
     "data": {
      "text/plain": [
       "'Sisko'"
      ]
     },
     "execution_count": 20,
     "metadata": {},
     "output_type": "execute_result"
    }
   ],
   "source": [
    "# the string in index 2 of the list\n",
    "L[2]"
   ]
  },
  {
   "cell_type": "markdown",
   "id": "470e01e4",
   "metadata": {},
   "source": [
    "The same indexing tricks work for lists as do for strings."
   ]
  },
  {
   "cell_type": "code",
   "execution_count": 21,
   "id": "1ee615ab",
   "metadata": {},
   "outputs": [
    {
     "data": {
      "text/plain": [
       "['Picard', 'Janeway']"
      ]
     },
     "execution_count": 21,
     "metadata": {},
     "output_type": "execute_result"
    }
   ],
   "source": [
    "# every other item starting from index 1\n",
    "L[1::2]"
   ]
  },
  {
   "cell_type": "code",
   "execution_count": 22,
   "id": "05da732f",
   "metadata": {},
   "outputs": [
    {
     "data": {
      "text/plain": [
       "['Janeway', 'Sisko', 'Picard', 'Kirk']"
      ]
     },
     "execution_count": 22,
     "metadata": {},
     "output_type": "execute_result"
    }
   ],
   "source": [
    "# reverse the order\n",
    "L[::-1]"
   ]
  },
  {
   "cell_type": "markdown",
   "id": "2e1c543c",
   "metadata": {},
   "source": [
    "### Listomania\n",
    "\n",
    "We really mean it when we say that lists contain arbitrary objects. These objects can have differing types, and can even be lists themselves:"
   ]
  },
  {
   "cell_type": "code",
   "execution_count": 43,
   "id": "78ea0c59",
   "metadata": {},
   "outputs": [],
   "source": [
    "L = [\"Deep\", \"Space\", 9, 1.4]"
   ]
  },
  {
   "cell_type": "code",
   "execution_count": 44,
   "id": "ccae3bb8",
   "metadata": {},
   "outputs": [
    {
     "data": {
      "text/plain": [
       "[['TNG', 'DS9', 'VOY'], ['Picard', 'Sisko', 'Janeway'], [1, 2, 3]]"
      ]
     },
     "execution_count": 44,
     "metadata": {},
     "output_type": "execute_result"
    }
   ],
   "source": [
    "L = [[\"TNG\", \"DS9\", \"VOY\"], [\"Picard\", \"Sisko\", \"Janeway\"], [1, 2, 3]]\n",
    "L"
   ]
  },
  {
   "cell_type": "code",
   "execution_count": 45,
   "id": "3ae74871",
   "metadata": {},
   "outputs": [
    {
     "data": {
      "text/plain": [
       "['TNG', 'DS9', 'VOY']"
      ]
     },
     "execution_count": 45,
     "metadata": {},
     "output_type": "execute_result"
    }
   ],
   "source": [
    "L[0]"
   ]
  },
  {
   "cell_type": "code",
   "execution_count": 46,
   "id": "66421566",
   "metadata": {},
   "outputs": [
    {
     "data": {
      "text/plain": [
       "'Janeway'"
      ]
     },
     "execution_count": 46,
     "metadata": {},
     "output_type": "execute_result"
    }
   ],
   "source": [
    "L[1][2]"
   ]
  },
  {
   "cell_type": "markdown",
   "id": "b13e69aa",
   "metadata": {},
   "source": [
    "Later in the course, we'll learn more convenient and powerful ways to store lists of related data.\n",
    "\n",
    "Unlike strings, lists are mutable, and their elements can be altered in arbitrary ways. For example, we can ```append()``` elements."
   ]
  },
  {
   "cell_type": "code",
   "execution_count": 47,
   "id": "ec51e344",
   "metadata": {},
   "outputs": [
    {
     "data": {
      "text/plain": [
       "[['TNG', 'DS9', 'VOY', 'TOS'],\n",
       " ['Picard', 'Sisko', 'Janeway', 'Kirk'],\n",
       " [1, 2, 3, 4]]"
      ]
     },
     "execution_count": 47,
     "metadata": {},
     "output_type": "execute_result"
    }
   ],
   "source": [
    "# this append function works in a pass by reference way\n",
    "L[0].append(\"TOS\")\n",
    "L[1].append(\"Kirk\")\n",
    "L[2].append(4)\n",
    "L"
   ]
  },
  {
   "cell_type": "markdown",
   "id": "77aeb972",
   "metadata": {},
   "source": [
    "There are many other ways to modify lists, a few of which are demonstrated below:"
   ]
  },
  {
   "cell_type": "code",
   "execution_count": 48,
   "id": "53e92f79",
   "metadata": {},
   "outputs": [
    {
     "name": "stdout",
     "output_type": "stream",
     "text": [
      "Command                L\n",
      "-----------------------------------\n",
      "L.remove('Kirk')       ['Picard', 'Sisko', 'Janeway']\n",
      "L.pop(1)               ['Picard', 'Janeway']\n",
      "L.insert(1, 'Spock')   ['Picard', 'Spock', 'Janeway']\n",
      "L.sort()               ['Janeway', 'Picard', 'Spock']\n",
      "L.reverse()            ['Spock', 'Picard', 'Janeway']\n"
     ]
    }
   ],
   "source": [
    "L = [\"Kirk\",\"Picard\", \"Sisko\", \"Janeway\"]\n",
    "\n",
    "print(\"Command                L\")\n",
    "print(\"-----------------------------------\")\n",
    "L.remove('Kirk')                             # removes first instance of 'Kirk'\n",
    "print(\"L.remove('Kirk')      \", L)\n",
    "\n",
    "L.pop(1)                                     # removes element in position 1 (Sisko)\n",
    "print(\"L.pop(1)              \", L)\n",
    "\n",
    "L.insert(1,'Spock')                          # adds 'Spock' in index 1\n",
    "print(\"L.insert(1, 'Spock')  \", L)\n",
    "\n",
    "L.sort()                                     # sorts elements (ascending)\n",
    "print(\"L.sort()              \", L)\n",
    "\n",
    "L.reverse()                                  # reverses order of elements\n",
    "print(\"L.reverse()           \", L)\n",
    "# ---"
   ]
  },
  {
   "cell_type": "markdown",
   "id": "833efcf1",
   "metadata": {},
   "source": [
    "### Constructing lists\n",
    "\n",
    "Python offers many ways to construct lists, some of them more convenient than others. The method ```split()``` of string objects is one handy example. This can be used, for example, to loop over the individual words of a string."
   ]
  },
  {
   "cell_type": "code",
   "execution_count": 52,
   "id": "bb9645f2",
   "metadata": {},
   "outputs": [
    {
     "data": {
      "text/plain": [
       "['to', 'boldly', 'go']"
      ]
     },
     "execution_count": 52,
     "metadata": {},
     "output_type": "execute_result"
    }
   ],
   "source": [
    "s = \"to boldly go\"\n",
    "s.split() # pass by value"
   ]
  },
  {
   "cell_type": "markdown",
   "id": "80c33a68",
   "metadata": {},
   "source": [
    "We can also ```split()``` using other delimiters such as ```,```."
   ]
  },
  {
   "cell_type": "code",
   "execution_count": 56,
   "id": "da7905d6",
   "metadata": {},
   "outputs": [
    {
     "data": {
      "text/plain": [
       "['in a mirror', ' darkly']"
      ]
     },
     "execution_count": 56,
     "metadata": {},
     "output_type": "execute_result"
    }
   ],
   "source": [
    "t = \"in a mirror, darkly\"\n",
    "t.split(\",\") # we would like to not have the space before darkly, make \", \" the delimiter"
   ]
  },
  {
   "cell_type": "markdown",
   "id": "dace9187",
   "metadata": {},
   "source": [
    "### Sorting lists\n",
    "\n",
    "Lists can be sorted in several ways. When there is an obvious ordering of elements, Python will often infer it:"
   ]
  },
  {
   "cell_type": "code",
   "execution_count": 57,
   "id": "c5a359d1",
   "metadata": {},
   "outputs": [
    {
     "data": {
      "text/plain": [
       "[2, 2, 2, 2, 2, 2, 3, 3, 3, 4, 4, 5, 5, 6]"
      ]
     },
     "execution_count": 57,
     "metadata": {},
     "output_type": "execute_result"
    }
   ],
   "source": [
    "L = [2, 3, 4, 2, 3, 2, 2, 2, 5, 4, 3, 5, 6, 2]\n",
    "L.sort()\n",
    "L"
   ]
  },
  {
   "cell_type": "code",
   "execution_count": 59,
   "id": "8b23c5ed",
   "metadata": {},
   "outputs": [
    {
     "data": {
      "text/plain": [
       "[6, 5, 5, 4, 4, 3, 3, 3, 2, 2, 2, 2, 2, 2]"
      ]
     },
     "execution_count": 59,
     "metadata": {},
     "output_type": "execute_result"
    }
   ],
   "source": [
    "L.sort(reverse=True) # built-in option reverse. reverses the default order\n",
    "L"
   ]
  },
  {
   "cell_type": "code",
   "execution_count": 60,
   "id": "01f62ac1",
   "metadata": {},
   "outputs": [
    {
     "data": {
      "text/plain": [
       "['Janeway', 'Picard', 'Pike', 'Sisko']"
      ]
     },
     "execution_count": 60,
     "metadata": {},
     "output_type": "execute_result"
    }
   ],
   "source": [
    "L = [\"Sisko\", \"Picard\", \"Janeway\", \"Pike\"]\n",
    "L.sort()\n",
    "L"
   ]
  },
  {
   "cell_type": "markdown",
   "id": "96875ae2",
   "metadata": {},
   "source": [
    "Lists can also be sorted using arbitrary functions. For example, we can sort L1 into evens and then odds. Don't worry about the syntax of the function definition for now."
   ]
  },
  {
   "cell_type": "code",
   "execution_count": 61,
   "id": "503837be",
   "metadata": {},
   "outputs": [
    {
     "data": {
      "text/plain": [
       "[2, 4, 2, 2, 2, 2, 4, 6, 2, 3, 3, 5, 3, 5]"
      ]
     },
     "execution_count": 61,
     "metadata": {},
     "output_type": "execute_result"
    }
   ],
   "source": [
    "L = [2, 3, 4, 2, 3, 2, 2, 2, 5, 4, 3, 5, 6, 2]\n",
    "\n",
    "# is_odd returns true if a number is odd, false otherwise.\n",
    "def is_odd(x):\n",
    "    return(x % 2 == 1)\n",
    "\n",
    "L.sort(key=is_odd)\n",
    "L"
   ]
  },
  {
   "cell_type": "code",
   "execution_count": 62,
   "id": "cec7efe2",
   "metadata": {},
   "outputs": [
    {
     "data": {
      "text/plain": [
       "True"
      ]
     },
     "execution_count": 62,
     "metadata": {},
     "output_type": "execute_result"
    }
   ],
   "source": [
    "False<True"
   ]
  },
  {
   "cell_type": "markdown",
   "id": "1e3c3a7f",
   "metadata": {},
   "source": [
    "You can even use a key function that returns multiple values, which will result in sorting by multiple attributes. For example, suppose we wanted to sort ascending within each group (odd/even)."
   ]
  },
  {
   "cell_type": "code",
   "execution_count": 63,
   "id": "59585aa5",
   "metadata": {},
   "outputs": [
    {
     "data": {
      "text/plain": [
       "[2, 2, 2, 2, 2, 2, 4, 4, 6, 3, 3, 3, 5, 5]"
      ]
     },
     "execution_count": 63,
     "metadata": {},
     "output_type": "execute_result"
    }
   ],
   "source": [
    "# if you want even, then odd, but also in ascending order\n",
    "def sorter(x):\n",
    "    return(is_odd(x), x)\n",
    "\n",
    "L.sort(key=sorter)\n",
    "L"
   ]
  },
  {
   "cell_type": "markdown",
   "id": "0550991b",
   "metadata": {},
   "source": [
    "We'll talk more about the syntax of these function definitions when we discuss functions and tuples."
   ]
  }
 ],
 "metadata": {
  "kernelspec": {
   "display_name": "Python 3 (ipykernel)",
   "language": "python",
   "name": "python3"
  },
  "language_info": {
   "codemirror_mode": {
    "name": "ipython",
    "version": 3
   },
   "file_extension": ".py",
   "mimetype": "text/x-python",
   "name": "python",
   "nbconvert_exporter": "python",
   "pygments_lexer": "ipython3",
   "version": "3.11.7"
  }
 },
 "nbformat": 4,
 "nbformat_minor": 5
}
