{
 "cells": [
  {
   "attachments": {},
   "cell_type": "markdown",
   "metadata": {},
   "source": [
    "# First Steps: Data Types, Lists, and Built-In Functions\n",
    "\n",
    "Remember, completing the worksheet is great for your understanding but not necessary from a grading perspective. Whatever you are able to complete in the discussion section will usually be fine. That said, you are heartily encouraged to make additional time to complete any parts that you may not have gotten to during the scheduled Discussion. "
   ]
  },
  {
   "attachments": {},
   "cell_type": "markdown",
   "metadata": {},
   "source": [
    "## Introduction\n",
    "\n",
    "The purpose of this Discussion activity is to (gently) help you get up to speed writing Python code. Please pay special attention to Problem 1, as it illustrates some important theoretical points which can help you if you run into bugs later in the course. \n",
    "\n",
    "Don't rush through this worksheet and copypaste everything I wrote into the code cells -- just read it and type it in yourself, because that will help you remember the syntax. Working through them productively (in a way that makes you learn something) is more important than finishing every problem."
   ]
  },
  {
   "cell_type": "markdown",
   "metadata": {},
   "source": [
    "## § Problem 1: Variables and Objects in Python"
   ]
  },
  {
   "cell_type": "markdown",
   "metadata": {},
   "source": [
    "When you learned C++, you learned that a given variable had to stay the same type for an entire program. That is, if you had an int named x in the beginning of your program, x had to stay an int for the entire program. The story is much different in python. In this exercise, we will explore these difference.\n",
    "\n",
    "*a)* In the code cell below, write the three lines:\n",
    "```python\n",
    "x = 2\n",
    "x = [5]\n",
    "x = \"a\"\n",
    "```\n",
    "**Print the value of `x` after each line.** Run the cell. Try running it multiple times. Observe the output. In a few words, what does this tell you about what happens, in terms of objects and variables? Write your answer in the space below the code cell. If you had known nothing about python, would you have expected this code to work based on your knowledge of C++?"
   ]
  },
  {
   "cell_type": "code",
   "execution_count": 5,
   "metadata": {},
   "outputs": [
    {
     "name": "stdout",
     "output_type": "stream",
     "text": [
      "2\n",
      "<class 'int'>\n",
      "[5]\n",
      "<class 'list'>\n",
      "a\n",
      "<class 'str'>\n"
     ]
    }
   ],
   "source": [
    "# code here\n",
    "x = 2\n",
    "print(x)\n",
    "print(type(x))\n",
    "x = [5]\n",
    "print(x)\n",
    "print(type(x))\n",
    "x = \"a\"\n",
    "print(x)\n",
    "print(type(x))"
   ]
  },
  {
   "cell_type": "markdown",
   "metadata": {},
   "source": [
    "*\\[I noticed that every time I redefined x, it automatically adjusted what the variable x represented. There is no need to create a new variable every time.\\].*"
   ]
  },
  {
   "cell_type": "markdown",
   "metadata": {},
   "source": [
    "*b)* Now write the three lines:\n",
    "```python\n",
    "y = [1, 2, 3]\n",
    "y[0] = 8\n",
    "y.sort()\n",
    "```\n",
    "Print the value and `id()` of `y` after each line. What does this tell you about what happens, in terms of objects and variables?"
   ]
  },
  {
   "cell_type": "code",
   "execution_count": 7,
   "metadata": {},
   "outputs": [
    {
     "name": "stdout",
     "output_type": "stream",
     "text": [
      "4574059136\n",
      "[1, 2, 3]\n",
      "4574059136\n",
      "[8, 2, 3]\n",
      "4574059136\n",
      "[2, 3, 8]\n"
     ]
    }
   ],
   "source": [
    "# code here\n",
    "y = [1, 2, 3]\n",
    "print(id(y))\n",
    "print(y)\n",
    "y[0] = 8\n",
    "print(id(y))\n",
    "print(y)\n",
    "y.sort()\n",
    "print(id(y))\n",
    "print(y)"
   ]
  },
  {
   "cell_type": "markdown",
   "metadata": {},
   "source": [
    "*\\[What I noticed is that lists are mutable, and they have the same id even after being changed.\\].*"
   ]
  },
  {
   "cell_type": "markdown",
   "metadata": {},
   "source": [
    "*c)* Write the four lines:\n",
    "```python\n",
    "a = 0\n",
    "b = a\n",
    "a += 1\n",
    "a += 2\n",
    "```\n",
    "After each line, print `a`, `b`, and their identities (once they've been defined). Is this the same as what you might have expected based on your previous programming experience in a language such as C++? "
   ]
  },
  {
   "cell_type": "code",
   "execution_count": 11,
   "metadata": {},
   "outputs": [
    {
     "name": "stdout",
     "output_type": "stream",
     "text": [
      "a:  0\n",
      "The id of a is:  4338134088\n",
      "a:  0\n",
      "b:  0\n",
      "The id of a is:  4338134088\n",
      "The id of b is:  4338134088\n",
      "a:  1\n",
      "b:  0\n",
      "The id of a is:  4338134120\n",
      "The id of b is:  4338134088\n",
      "a:  3\n",
      "b:  0\n",
      "The id of a is:  4338134184\n",
      "The id of b is:  4338134088\n"
     ]
    }
   ],
   "source": [
    "# code here\n",
    "a = 0\n",
    "print(\"a: \", a)\n",
    "print(\"The id of a is: \", id(a))\n",
    "b = a\n",
    "print(\"a: \", a)\n",
    "print(\"b: \", b)\n",
    "print(\"The id of a is: \", id(a))\n",
    "print(\"The id of b is: \", id(b))\n",
    "a += 1\n",
    "print(\"a: \", a)\n",
    "print(\"b: \", b)\n",
    "print(\"The id of a is: \", id(a))\n",
    "print(\"The id of b is: \", id(b))\n",
    "a += 2\n",
    "print(\"a: \", a)\n",
    "print(\"b: \", b)\n",
    "print(\"The id of a is: \", id(a))\n",
    "print(\"The id of b is: \", id(b))"
   ]
  },
  {
   "cell_type": "markdown",
   "metadata": {},
   "source": [
    "*\\[This is not the same as what I would expect in C++ because although the value of a changes, b does not change and still has the id that the original a had.\\].*"
   ]
  },
  {
   "cell_type": "markdown",
   "metadata": {},
   "source": [
    "*d)* Write the four lines:\n",
    "```python\n",
    "c = [0, 1, 2]\n",
    "d = c\n",
    "c += [3]\n",
    "c += [4, 5]\n",
    "```\n",
    "After each line, print `c`, `d`, and their identities (once they've been defined). Is this the same as what you might have expected based on your previous programming experience in a language such as C++? How does it differ from your answer to the previous part? (It might help to google the phrase `mutable variable'.)"
   ]
  },
  {
   "cell_type": "code",
   "execution_count": 13,
   "metadata": {},
   "outputs": [
    {
     "name": "stdout",
     "output_type": "stream",
     "text": [
      "c:  [0, 1, 2]\n",
      "The id of c is:  4574065344\n",
      "c:  [0, 1, 2]\n",
      "d:  [0, 1, 2]\n",
      "The id of c is:  4574065344\n",
      "The id of d is:  4574065344\n",
      "c:  [0, 1, 2, 3]\n",
      "d:  [0, 1, 2, 3]\n",
      "The id of c is:  4574065344\n",
      "The id of d is:  4574065344\n",
      "c:  [0, 1, 2, 3, 4, 5]\n",
      "d:  [0, 1, 2, 3, 4, 5]\n",
      "The id of c is:  4574065344\n",
      "The id of d is:  4574065344\n"
     ]
    }
   ],
   "source": [
    "# code here\n",
    "c = [0, 1, 2]\n",
    "print(\"c: \", c)\n",
    "print(\"The id of c is: \", id(c))\n",
    "d = c\n",
    "print(\"c: \", c)\n",
    "print(\"d: \", d)\n",
    "print(\"The id of c is: \", id(c))\n",
    "print(\"The id of d is: \", id(d))\n",
    "c += [3]\n",
    "print(\"c: \", c)\n",
    "print(\"d: \", d)\n",
    "print(\"The id of c is: \", id(c))\n",
    "print(\"The id of d is: \", id(d))\n",
    "c += [4, 5]\n",
    "print(\"c: \", c)\n",
    "print(\"d: \", d)\n",
    "print(\"The id of c is: \", id(c))\n",
    "print(\"The id of d is: \", id(d))"
   ]
  },
  {
   "cell_type": "markdown",
   "metadata": {},
   "source": [
    "*\\[This is different from the last part because as c changes, d also changes even though I never redefine d. The ids for both lists stay the same and they both change as I change c.\\].*"
   ]
  },
  {
   "cell_type": "markdown",
   "metadata": {},
   "source": [
    "## § Problem 2: List and String Slicing"
   ]
  },
  {
   "attachments": {},
   "cell_type": "markdown",
   "metadata": {},
   "source": [
    "This problem will ask you to create your own code cells. Recall that you can do so by highlighting the cell below which you want to add a new one, and then use the `+` sign in the toolbar. Even better, press `b` when the cell is highlighted (works in Jupyter Notebook, not Jupyter Lab). \n",
    "\n",
    "### Part (A)\n",
    "\n",
    "Add a code cell below this one. In that cell, assign  the string `\"string\"` to a new variable named `s`. Then run the cell. \n",
    "\n",
    "For each of the following items, **first guess what the output should be**. Once you decide, add a new code cell, run the corresponding item inside it, and compare your guess with the output:\n",
    "\n",
    "```python\n",
    "s[2]\n",
    "s[-2]\n",
    "s[:4]\n",
    "s[4:]\n",
    "s[1:5]\n",
    "s[:]\n",
    "s[2:-1]\n",
    "s[::2]\n",
    "```\n",
    "\n",
    "Make sure you run each of these in a separate cell, and don't clear the output -- else we won't know that you did the work.\n",
    "\n",
    "Think about which of these would also work the same way if we had declared `s` to be a list (of the same length). Write your hypothesis in a new *markdown* cell below. (Markdown cells like this one don't run their contents through the Python interpreter -- they just display nicely whatever you put inside them. Use the drop-down menu in the toolbar to turn a code cell into a markdown cell. Double-click a markdown cell to edit it, and run it like you would a code cell.) "
   ]
  },
  {
   "cell_type": "code",
   "execution_count": 26,
   "metadata": {},
   "outputs": [],
   "source": [
    "s = \"string\""
   ]
  },
  {
   "cell_type": "code",
   "execution_count": 15,
   "metadata": {},
   "outputs": [
    {
     "data": {
      "text/plain": [
       "'r'"
      ]
     },
     "execution_count": 15,
     "metadata": {},
     "output_type": "execute_result"
    }
   ],
   "source": [
    "s[2]"
   ]
  },
  {
   "cell_type": "code",
   "execution_count": 16,
   "metadata": {},
   "outputs": [
    {
     "data": {
      "text/plain": [
       "'n'"
      ]
     },
     "execution_count": 16,
     "metadata": {},
     "output_type": "execute_result"
    }
   ],
   "source": [
    "s[-2]"
   ]
  },
  {
   "cell_type": "code",
   "execution_count": 17,
   "metadata": {},
   "outputs": [
    {
     "data": {
      "text/plain": [
       "'stri'"
      ]
     },
     "execution_count": 17,
     "metadata": {},
     "output_type": "execute_result"
    }
   ],
   "source": [
    "s[:4]"
   ]
  },
  {
   "cell_type": "code",
   "execution_count": 18,
   "metadata": {},
   "outputs": [
    {
     "data": {
      "text/plain": [
       "'ng'"
      ]
     },
     "execution_count": 18,
     "metadata": {},
     "output_type": "execute_result"
    }
   ],
   "source": [
    "s[4:]"
   ]
  },
  {
   "cell_type": "code",
   "execution_count": 19,
   "metadata": {},
   "outputs": [
    {
     "data": {
      "text/plain": [
       "'trin'"
      ]
     },
     "execution_count": 19,
     "metadata": {},
     "output_type": "execute_result"
    }
   ],
   "source": [
    "s[1:5]"
   ]
  },
  {
   "cell_type": "code",
   "execution_count": 20,
   "metadata": {},
   "outputs": [
    {
     "data": {
      "text/plain": [
       "'string'"
      ]
     },
     "execution_count": 20,
     "metadata": {},
     "output_type": "execute_result"
    }
   ],
   "source": [
    "s[:]"
   ]
  },
  {
   "cell_type": "code",
   "execution_count": 21,
   "metadata": {},
   "outputs": [
    {
     "data": {
      "text/plain": [
       "'rin'"
      ]
     },
     "execution_count": 21,
     "metadata": {},
     "output_type": "execute_result"
    }
   ],
   "source": [
    "s[2:-1]"
   ]
  },
  {
   "cell_type": "code",
   "execution_count": 22,
   "metadata": {},
   "outputs": [
    {
     "data": {
      "text/plain": [
       "'srn'"
      ]
     },
     "execution_count": 22,
     "metadata": {},
     "output_type": "execute_result"
    }
   ],
   "source": [
    "s[::2]"
   ]
  },
  {
   "attachments": {},
   "cell_type": "markdown",
   "metadata": {},
   "source": [
    "## Part (B) \n",
    "\n",
    "Based on what you know about strings, what do you think will happen if you run the two lines:\n",
    "```python\n",
    "s[1] = 'p'\n",
    "print(s)\n",
    "```\n",
    "Add one new cell right below this one with both lines, and run it to test your hypothesis. As always, keep the output so that we see your work.\n",
    "\n",
    "Think about what would happen if we had declared `s` to be a list of the same length (for instance, the list `[1, 2, 3, 4, 5, 6]`) and ran the same code. Write your hypothesis in a new markdown cell below."
   ]
  },
  {
   "cell_type": "code",
   "execution_count": 23,
   "metadata": {},
   "outputs": [
    {
     "ename": "TypeError",
     "evalue": "'str' object does not support item assignment",
     "output_type": "error",
     "traceback": [
      "\u001b[0;31m---------------------------------------------------------------------------\u001b[0m",
      "\u001b[0;31mTypeError\u001b[0m                                 Traceback (most recent call last)",
      "Cell \u001b[0;32mIn[23], line 1\u001b[0m\n\u001b[0;32m----> 1\u001b[0m s[\u001b[38;5;241m1\u001b[39m] \u001b[38;5;241m=\u001b[39m \u001b[38;5;124m'\u001b[39m\u001b[38;5;124mp\u001b[39m\u001b[38;5;124m'\u001b[39m\n\u001b[1;32m      2\u001b[0m \u001b[38;5;28mprint\u001b[39m(s)\n",
      "\u001b[0;31mTypeError\u001b[0m: 'str' object does not support item assignment"
     ]
    }
   ],
   "source": [
    "s[1] = 'p'\n",
    "print(s)"
   ]
  },
  {
   "cell_type": "markdown",
   "metadata": {},
   "source": [
    "I hypothesize that if we had declared s to be a list of the same length, the 2nd element of the list would be replaced with the character \"p\"."
   ]
  },
  {
   "cell_type": "markdown",
   "metadata": {},
   "source": [
    "## Part (C)\n",
    "\n",
    "Take a moment to review string indexing. Edit the next cell to fill in the missing positive and negative index labels. Don't forget to render the cell. "
   ]
  },
  {
   "cell_type": "markdown",
   "metadata": {},
   "source": [
    "```\n",
    "| s | t | r | i | n | g |\n",
    "  0   1   2   3   4   5    <-- replace these question marks with positive indices\n",
    " -6  -5  -4  -3  -2   -1   <-- add negative indices on this line (use spaces to align)\n",
    "```"
   ]
  },
  {
   "cell_type": "markdown",
   "metadata": {},
   "source": [
    "## § Problem 3: Built-In Functions"
   ]
  },
  {
   "cell_type": "markdown",
   "metadata": {},
   "source": [
    "## Part (A)\n",
    "\n",
    "In the code cell below we have declared two lists. Run this cell now. "
   ]
  },
  {
   "cell_type": "code",
   "execution_count": 27,
   "metadata": {},
   "outputs": [],
   "source": [
    "m1 = [0, 3, 6, 9]\n",
    "m2 = [0, 2, 4, 6]"
   ]
  },
  {
   "cell_type": "markdown",
   "metadata": {},
   "source": [
    "Make a new code cell right below this one. Inside it, define a new list that consists of two copies of `m1` followed by one copy of `m2`. Do not re-type the righthand sides of the `=` signs in the code cell above! Using the same single code cell, perform the following operations on the list, printing the list after each operation:\n",
    "\n",
    "1. Sort this list\n",
    "2. Reverse the resulting list\n",
    "3. Throw out the first value of the list\n",
    "4. Throw out the last three values of the list\n",
    "5. Append the number 5 to the list\n",
    "6. Replace the list with two copies of itself put together (use `=`)\n",
    "7. Sort the list in reverse order (using just one function call)\n",
    "\n",
    "Don't guess what your code will do -- **run the cell regularly** to see what happens! \n",
    "\n",
    "You can find several useful functions in [these lecture notes](https://nbviewer.jupyter.org/github/PhilChodrow/PIC16A/blob/master/content/basics/lists.ipynb). "
   ]
  },
  {
   "cell_type": "code",
   "execution_count": 49,
   "metadata": {},
   "outputs": [
    {
     "name": "stdout",
     "output_type": "stream",
     "text": [
      "[0, 0, 0, 2, 3, 3, 4, 6, 6, 6, 9, 9]\n",
      "[9, 9, 6, 6, 6, 4, 3, 3, 2, 0, 0, 0]\n",
      "[9, 6, 6, 6, 4, 3, 3, 2, 0, 0, 0]\n",
      "[9, 6, 6, 6, 4, 3, 3, 2]\n",
      "[9, 6, 6, 6, 4, 3, 3, 2, 5]\n",
      "[9, 6, 6, 6, 4, 3, 3, 2, 5, 9, 6, 6, 6, 4, 3, 3, 2, 5]\n",
      "[9, 9, 6, 6, 6, 6, 6, 6, 5, 5, 4, 4, 3, 3, 3, 3, 2, 2]\n"
     ]
    }
   ],
   "source": [
    "m3 = m1 + m1 + m2\n",
    "m3.sort()\n",
    "print(m3)\n",
    "m3.reverse()\n",
    "print(m3)\n",
    "m3.pop(0)\n",
    "print(m3)\n",
    "m3.pop()\n",
    "m3.pop()\n",
    "m3.pop()\n",
    "print(m3)\n",
    "m3.append(5)\n",
    "print(m3)\n",
    "m3 = m3 + m3\n",
    "print(m3)\n",
    "m3.sort(reverse = True)\n",
    "print(m3)"
   ]
  },
  {
   "attachments": {},
   "cell_type": "markdown",
   "metadata": {},
   "source": [
    "## Part (B)\n",
    "\n",
    "For each of the following code cells: \n",
    "\n",
    "1. Make a markdown cell above the code cell. Inside that markdown cell, write your hypothesis describing what the cell will print or otherwise achieve. There are several functions here that we haven't learned yet -- take your best guess! A couple of words per function (not per line of code) will suffice.\n",
    "2. Then, run the cell to check your hypothesis. \n",
    "3. After checking, feel free to modify the code cell to experiment with the functions and make sure you are clear on their operation. "
   ]
  },
  {
   "cell_type": "markdown",
   "metadata": {},
   "source": [
    "My hypothesis for the cell below is that three variables 'p', 'q', and 'r' will be defined with three different lists."
   ]
  },
  {
   "cell_type": "code",
   "execution_count": 41,
   "metadata": {},
   "outputs": [],
   "source": [
    "p = ['t', 'e', 's', 't']\n",
    "q = ['a', 'b', 'c', 'd']\n",
    "r = [10, 20, 8, 17]"
   ]
  },
  {
   "cell_type": "markdown",
   "metadata": {},
   "source": [
    "My hypothesis for the cell below is that first the length of 'p' will be printed, then the length of 'p' and 'q' will be printed, then the length of an empty list will be printed."
   ]
  },
  {
   "cell_type": "code",
   "execution_count": 42,
   "metadata": {},
   "outputs": [
    {
     "name": "stdout",
     "output_type": "stream",
     "text": [
      "4\n",
      "8\n",
      "0\n"
     ]
    }
   ],
   "source": [
    "print(len(p))\n",
    "print(len(p + q))\n",
    "print(len([]))"
   ]
  },
  {
   "cell_type": "markdown",
   "metadata": {},
   "source": [
    "My hypothesis for the cell below is that t1 is a variable defining a string with all of the elements of 'q' joined together using ', '. t2 is a similar variable defining a string with all of the elements of 'p' joined together using ' '. Then, both strings are printed and then t1 is printed in upper case, then all lower case, and then finally a list of the string joined by 'q' and ' ' but then split at b."
   ]
  },
  {
   "cell_type": "code",
   "execution_count": 43,
   "metadata": {},
   "outputs": [
    {
     "name": "stdout",
     "output_type": "stream",
     "text": [
      "a, b, c, d\n",
      "test\n",
      "A, B, C, D\n",
      "a, b, c, d\n",
      "['a', 'cd']\n"
     ]
    }
   ],
   "source": [
    "t1 = ', '.join(q)\n",
    "t2 = ''.join(p)\n",
    "print(t1)\n",
    "print(t2)\n",
    "print(t1.upper())\n",
    "print(t1.upper().lower())\n",
    "print(''.join(q).split('b'))"
   ]
  },
  {
   "cell_type": "markdown",
   "metadata": {},
   "source": [
    "My hypothesis for the code below is that first thing printed will be the number of ',' in t1 and second the number of 't' in t2."
   ]
  },
  {
   "cell_type": "code",
   "execution_count": 44,
   "metadata": {},
   "outputs": [
    {
     "name": "stdout",
     "output_type": "stream",
     "text": [
      "3\n",
      "2\n"
     ]
    }
   ],
   "source": [
    "print(t1.count(','))\n",
    "print(t2.count('t'))"
   ]
  },
  {
   "cell_type": "markdown",
   "metadata": {},
   "source": [
    "My hypothesis for the code below is that first the minimum (smallest alphabetical) of p will be printed, then the max of q, then the max of r and sum of r."
   ]
  },
  {
   "cell_type": "code",
   "execution_count": 45,
   "metadata": {},
   "outputs": [
    {
     "name": "stdout",
     "output_type": "stream",
     "text": [
      "e\n",
      "d\n",
      "20\n",
      "55\n"
     ]
    }
   ],
   "source": [
    "print(min(p))\n",
    "print(max(q))\n",
    "print(max(r))\n",
    "print(sum(r))"
   ]
  },
  {
   "cell_type": "markdown",
   "metadata": {},
   "source": [
    "My hypothesis for the cell below is that first the range function from 0-10 will be printed, then it will be printed in a list from 0-9. Next, a list from 5-7 will be printed. Next, an empty list will be printed and then finally a list from 10-1."
   ]
  },
  {
   "cell_type": "markdown",
   "metadata": {},
   "source": [
    "My hypothesis for the code below is that first the sorted list \"p\" based on ascending order will be printed, then the combined list will be printed with each element at the same index being together in a tuple. Finally, each list will be combined in a larger list with each individual list being a tuple."
   ]
  },
  {
   "cell_type": "code",
   "execution_count": 46,
   "metadata": {},
   "outputs": [
    {
     "name": "stdout",
     "output_type": "stream",
     "text": [
      "['e', 's', 't', 't']\n",
      "[('t', 'a', 10), ('e', 'b', 20), ('s', 'c', 8), ('t', 'd', 17)]\n",
      "[('t', 'e', 's', 't'), ('a', 'b', 'c', 'd'), (10, 20, 8, 17)]\n"
     ]
    }
   ],
   "source": [
    "print(sorted(p))\n",
    "print(list(zip(p,q,r)))\n",
    "print(list(zip(*zip(p,q,r))))"
   ]
  },
  {
   "cell_type": "code",
   "execution_count": 47,
   "metadata": {},
   "outputs": [
    {
     "name": "stdout",
     "output_type": "stream",
     "text": [
      "range(0, 10)\n",
      "[0, 1, 2, 3, 4, 5, 6, 7, 8, 9]\n",
      "[5, 6, 7]\n",
      "[]\n",
      "[10, 9, 8, 7, 6, 5, 4, 3, 2, 1]\n"
     ]
    }
   ],
   "source": [
    "print(range(10))\n",
    "print(list(range(10)))\n",
    "print(list(range(5,8)))\n",
    "print(list(range(10,0)))\n",
    "print(list(range(10,0,-1)))"
   ]
  },
  {
   "cell_type": "code",
   "execution_count": null,
   "metadata": {},
   "outputs": [],
   "source": []
  }
 ],
 "metadata": {
  "kernelspec": {
   "display_name": "Python 3 (ipykernel)",
   "language": "python",
   "name": "python3"
  },
  "language_info": {
   "codemirror_mode": {
    "name": "ipython",
    "version": 3
   },
   "file_extension": ".py",
   "mimetype": "text/x-python",
   "name": "python",
   "nbconvert_exporter": "python",
   "pygments_lexer": "ipython3",
   "version": "3.11.7"
  }
 },
 "nbformat": 4,
 "nbformat_minor": 4
}
