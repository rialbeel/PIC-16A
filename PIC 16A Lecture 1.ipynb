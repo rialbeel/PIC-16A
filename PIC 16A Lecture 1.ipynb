{
 "cells": [
  {
   "cell_type": "markdown",
   "id": "98c59a9c",
   "metadata": {},
   "source": [
    "# Lecture 1\n",
    "\n",
    "## Numbers, Variables, Strings, and Lists"
   ]
  },
  {
   "cell_type": "code",
   "execution_count": 1,
   "id": "431fb541",
   "metadata": {},
   "outputs": [
    {
     "data": {
      "text/plain": [
       "5"
      ]
     },
     "execution_count": 1,
     "metadata": {},
     "output_type": "execute_result"
    }
   ],
   "source": [
    "2 + 3"
   ]
  },
  {
   "cell_type": "code",
   "execution_count": 2,
   "id": "970896ec",
   "metadata": {},
   "outputs": [
    {
     "data": {
      "text/plain": [
       "3"
      ]
     },
     "execution_count": 2,
     "metadata": {},
     "output_type": "execute_result"
    }
   ],
   "source": [
    "4 - 1"
   ]
  },
  {
   "cell_type": "code",
   "execution_count": 3,
   "id": "0855918f",
   "metadata": {},
   "outputs": [
    {
     "data": {
      "text/plain": [
       "8"
      ]
     },
     "execution_count": 3,
     "metadata": {},
     "output_type": "execute_result"
    }
   ],
   "source": [
    "4 * 2"
   ]
  },
  {
   "cell_type": "code",
   "execution_count": 4,
   "id": "6be5baa4",
   "metadata": {},
   "outputs": [
    {
     "data": {
      "text/plain": [
       "2.0"
      ]
     },
     "execution_count": 4,
     "metadata": {},
     "output_type": "execute_result"
    }
   ],
   "source": [
    "12/6"
   ]
  },
  {
   "cell_type": "code",
   "execution_count": 5,
   "id": "b03ec978",
   "metadata": {},
   "outputs": [
    {
     "data": {
      "text/plain": [
       "1.0909090909090908"
      ]
     },
     "execution_count": 5,
     "metadata": {},
     "output_type": "execute_result"
    }
   ],
   "source": [
    "12/11"
   ]
  },
  {
   "cell_type": "code",
   "execution_count": 6,
   "id": "1f3992fc",
   "metadata": {},
   "outputs": [
    {
     "data": {
      "text/plain": [
       "1"
      ]
     },
     "execution_count": 6,
     "metadata": {},
     "output_type": "execute_result"
    }
   ],
   "source": [
    "12 % 11"
   ]
  },
  {
   "cell_type": "markdown",
   "id": "657380ae",
   "metadata": {},
   "source": [
    "## Variables"
   ]
  },
  {
   "cell_type": "code",
   "execution_count": 7,
   "id": "8ba1f7a0",
   "metadata": {},
   "outputs": [
    {
     "data": {
      "text/plain": [
       "True"
      ]
     },
     "execution_count": 7,
     "metadata": {},
     "output_type": "execute_result"
    }
   ],
   "source": [
    "x = 4\n",
    "y = 4\n",
    "x == y"
   ]
  },
  {
   "cell_type": "code",
   "execution_count": 9,
   "id": "a839a2c7",
   "metadata": {},
   "outputs": [
    {
     "data": {
      "text/plain": [
       "(4340393272, 4340393272)"
      ]
     },
     "execution_count": 9,
     "metadata": {},
     "output_type": "execute_result"
    }
   ],
   "source": [
    "# are x and y the same?\n",
    "id(x), id(y)"
   ]
  },
  {
   "cell_type": "markdown",
   "id": "fdad0a8e",
   "metadata": {},
   "source": [
    "On the other hand, mutable variables like lists will generally not share memory"
   ]
  },
  {
   "cell_type": "code",
   "execution_count": 10,
   "id": "5432baf5",
   "metadata": {},
   "outputs": [],
   "source": [
    "a = [1, 2]\n",
    "b = [1, 2]\n",
    "\n",
    "c = a"
   ]
  },
  {
   "cell_type": "code",
   "execution_count": 11,
   "id": "87a7ca9b",
   "metadata": {},
   "outputs": [
    {
     "data": {
      "text/plain": [
       "(4396076928, 4396084544)"
      ]
     },
     "execution_count": 11,
     "metadata": {},
     "output_type": "execute_result"
    }
   ],
   "source": [
    "# are they the same?\n",
    "id(a), id(b)"
   ]
  },
  {
   "cell_type": "code",
   "execution_count": 13,
   "id": "e52dc845",
   "metadata": {},
   "outputs": [
    {
     "data": {
      "text/plain": [
       "(False, True)"
      ]
     },
     "execution_count": 13,
     "metadata": {},
     "output_type": "execute_result"
    }
   ],
   "source": [
    "a is b, a == b"
   ]
  },
  {
   "cell_type": "code",
   "execution_count": 14,
   "id": "f0e1dd43",
   "metadata": {},
   "outputs": [
    {
     "data": {
      "text/plain": [
       "4396076928"
      ]
     },
     "execution_count": 14,
     "metadata": {},
     "output_type": "execute_result"
    }
   ],
   "source": [
    "id(c)"
   ]
  },
  {
   "cell_type": "code",
   "execution_count": 16,
   "id": "d50b48d7",
   "metadata": {},
   "outputs": [
    {
     "data": {
      "text/plain": [
       "(True, True)"
      ]
     },
     "execution_count": 16,
     "metadata": {},
     "output_type": "execute_result"
    }
   ],
   "source": [
    "a is c, a == c"
   ]
  },
  {
   "cell_type": "markdown",
   "id": "0d64cf1b",
   "metadata": {},
   "source": [
    "## Working with text data: Strings"
   ]
  },
  {
   "cell_type": "code",
   "execution_count": 20,
   "id": "dd2ae2ee",
   "metadata": {},
   "outputs": [
    {
     "data": {
      "text/plain": [
       "True"
      ]
     },
     "execution_count": 20,
     "metadata": {},
     "output_type": "execute_result"
    }
   ],
   "source": [
    "a = \"to boldly go\"\n",
    "b = 'to boldly go'\n",
    "\n",
    "# are a and b considered to have the same value?\n",
    "a == b"
   ]
  },
  {
   "cell_type": "code",
   "execution_count": 23,
   "id": "9b1668a8",
   "metadata": {},
   "outputs": [
    {
     "name": "stdout",
     "output_type": "stream",
     "text": [
      "Picard says 'to boldly go'\n"
     ]
    }
   ],
   "source": [
    "a = \"Picard says 'to boldly go'\"\n",
    "b = 'Picard says \"to boldly go\"'\n",
    "\n",
    "print(a)"
   ]
  },
  {
   "cell_type": "code",
   "execution_count": 24,
   "id": "ace6882a",
   "metadata": {},
   "outputs": [
    {
     "name": "stdout",
     "output_type": "stream",
     "text": [
      "Picard says \"That's Kirk's line\"\n"
     ]
    }
   ],
   "source": [
    "d = 'Picard says \"That\\'s Kirk\\'s line\"'\n",
    "\n",
    "print(d)"
   ]
  },
  {
   "cell_type": "markdown",
   "id": "ebebebdf",
   "metadata": {},
   "source": [
    "## Basic String Manipulation"
   ]
  },
  {
   "cell_type": "code",
   "execution_count": 26,
   "id": "9b13d127",
   "metadata": {},
   "outputs": [
    {
     "data": {
      "text/plain": [
       "'PIC 16A'"
      ]
     },
     "execution_count": 26,
     "metadata": {},
     "output_type": "execute_result"
    }
   ],
   "source": [
    "# adding two strings (concatenating)\n",
    "\"PIC \" + \"16A\""
   ]
  },
  {
   "cell_type": "code",
   "execution_count": 27,
   "id": "71bbb48f",
   "metadata": {},
   "outputs": [
    {
     "data": {
      "text/plain": [
       "'cat cat cat cat cat '"
      ]
     },
     "execution_count": 27,
     "metadata": {},
     "output_type": "execute_result"
    }
   ],
   "source": [
    "# multiplying two strings\n",
    "5*\"cat \""
   ]
  },
  {
   "cell_type": "code",
   "execution_count": 29,
   "id": "273ed90b",
   "metadata": {},
   "outputs": [
    {
     "data": {
      "text/plain": [
       "'to boldly go'"
      ]
     },
     "execution_count": 29,
     "metadata": {},
     "output_type": "execute_result"
    }
   ],
   "source": [
    "x = \"boldly \"\n",
    "\"to \" + x + \"go\""
   ]
  },
  {
   "cell_type": "code",
   "execution_count": 30,
   "id": "2427338c",
   "metadata": {},
   "outputs": [
    {
     "ename": "TypeError",
     "evalue": "can only concatenate str (not \"int\") to str",
     "output_type": "error",
     "traceback": [
      "\u001b[0;31m---------------------------------------------------------------------------\u001b[0m",
      "\u001b[0;31mTypeError\u001b[0m                                 Traceback (most recent call last)",
      "Cell \u001b[0;32mIn[30], line 2\u001b[0m\n\u001b[1;32m      1\u001b[0m x \u001b[38;5;241m=\u001b[39m \u001b[38;5;241m9\u001b[39m\n\u001b[0;32m----> 2\u001b[0m \u001b[38;5;124m\"\u001b[39m\u001b[38;5;124mDeep Space\u001b[39m\u001b[38;5;124m\"\u001b[39m \u001b[38;5;241m+\u001b[39m x\n",
      "\u001b[0;31mTypeError\u001b[0m: can only concatenate str (not \"int\") to str"
     ]
    }
   ],
   "source": [
    "x = 9\n",
    "\"Deep Space\" + x"
   ]
  },
  {
   "cell_type": "code",
   "execution_count": 32,
   "id": "94a10e6a",
   "metadata": {},
   "outputs": [
    {
     "data": {
      "text/plain": [
       "'Deep Space 9'"
      ]
     },
     "execution_count": 32,
     "metadata": {},
     "output_type": "execute_result"
    }
   ],
   "source": [
    "\"Deep Space \" + str(x)"
   ]
  },
  {
   "cell_type": "code",
   "execution_count": null,
   "id": "103a44b1",
   "metadata": {},
   "outputs": [],
   "source": []
  }
 ],
 "metadata": {
  "kernelspec": {
   "display_name": "Python 3 (ipykernel)",
   "language": "python",
   "name": "python3"
  },
  "language_info": {
   "codemirror_mode": {
    "name": "ipython",
    "version": 3
   },
   "file_extension": ".py",
   "mimetype": "text/x-python",
   "name": "python",
   "nbconvert_exporter": "python",
   "pygments_lexer": "ipython3",
   "version": "3.11.5"
  }
 },
 "nbformat": 4,
 "nbformat_minor": 5
}
